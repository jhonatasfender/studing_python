{
 "cells": [
  {
   "cell_type": "code",
   "execution_count": 1,
   "metadata": {},
   "outputs": [
    {
     "data": {
      "application/javascript": [
       "\n",
       "            setTimeout(function() {\n",
       "                var nbb_cell_id = 1;\n",
       "                var nbb_unformatted_code = \"%load_ext nb_black\";\n",
       "                var nbb_formatted_code = \"%load_ext nb_black\";\n",
       "                var nbb_cells = Jupyter.notebook.get_cells();\n",
       "                for (var i = 0; i < nbb_cells.length; ++i) {\n",
       "                    if (nbb_cells[i].input_prompt_number == nbb_cell_id) {\n",
       "                        if (nbb_cells[i].get_text() == nbb_unformatted_code) {\n",
       "                             nbb_cells[i].set_text(nbb_formatted_code);\n",
       "                        }\n",
       "                        break;\n",
       "                    }\n",
       "                }\n",
       "            }, 500);\n",
       "            "
      ],
      "text/plain": [
       "<IPython.core.display.Javascript object>"
      ]
     },
     "metadata": {},
     "output_type": "display_data"
    }
   ],
   "source": [
    "%load_ext nb_black"
   ]
  },
  {
   "cell_type": "markdown",
   "metadata": {},
   "source": [
    "### How to find Fibonacci retracement levels"
   ]
  },
  {
   "cell_type": "code",
   "execution_count": 6,
   "metadata": {},
   "outputs": [
    {
     "data": {
      "text/html": [
       "<div>\n",
       "<style scoped>\n",
       "    .dataframe tbody tr th:only-of-type {\n",
       "        vertical-align: middle;\n",
       "    }\n",
       "\n",
       "    .dataframe tbody tr th {\n",
       "        vertical-align: top;\n",
       "    }\n",
       "\n",
       "    .dataframe thead th {\n",
       "        text-align: right;\n",
       "    }\n",
       "</style>\n",
       "<table border=\"1\" class=\"dataframe\">\n",
       "  <thead>\n",
       "    <tr style=\"text-align: right;\">\n",
       "      <th></th>\n",
       "      <th>Open</th>\n",
       "      <th>High</th>\n",
       "      <th>Low</th>\n",
       "      <th>Close</th>\n",
       "      <th>Volume</th>\n",
       "    </tr>\n",
       "    <tr>\n",
       "      <th>Date</th>\n",
       "      <th></th>\n",
       "      <th></th>\n",
       "      <th></th>\n",
       "      <th></th>\n",
       "      <th></th>\n",
       "    </tr>\n",
       "  </thead>\n",
       "  <tbody>\n",
       "    <tr>\n",
       "      <th>2020-08-04</th>\n",
       "      <td>26664.61</td>\n",
       "      <td>26832.72</td>\n",
       "      <td>26597.82</td>\n",
       "      <td>26828.47</td>\n",
       "      <td>275635300</td>\n",
       "    </tr>\n",
       "    <tr>\n",
       "      <th>2020-08-03</th>\n",
       "      <td>26542.32</td>\n",
       "      <td>26707.26</td>\n",
       "      <td>26534.38</td>\n",
       "      <td>26664.40</td>\n",
       "      <td>440843730</td>\n",
       "    </tr>\n",
       "    <tr>\n",
       "      <th>2020-07-31</th>\n",
       "      <td>26409.33</td>\n",
       "      <td>26440.02</td>\n",
       "      <td>26013.59</td>\n",
       "      <td>26428.32</td>\n",
       "      <td>492830042</td>\n",
       "    </tr>\n",
       "    <tr>\n",
       "      <th>2020-07-30</th>\n",
       "      <td>26367.42</td>\n",
       "      <td>26374.93</td>\n",
       "      <td>25992.28</td>\n",
       "      <td>26313.65</td>\n",
       "      <td>362616878</td>\n",
       "    </tr>\n",
       "    <tr>\n",
       "      <th>2020-07-29</th>\n",
       "      <td>26388.44</td>\n",
       "      <td>26602.45</td>\n",
       "      <td>26375.39</td>\n",
       "      <td>26539.57</td>\n",
       "      <td>348596822</td>\n",
       "    </tr>\n",
       "    <tr>\n",
       "      <th>...</th>\n",
       "      <td>...</td>\n",
       "      <td>...</td>\n",
       "      <td>...</td>\n",
       "      <td>...</td>\n",
       "      <td>...</td>\n",
       "    </tr>\n",
       "    <tr>\n",
       "      <th>2015-08-12</th>\n",
       "      <td>17382.93</td>\n",
       "      <td>17423.90</td>\n",
       "      <td>17125.81</td>\n",
       "      <td>17402.51</td>\n",
       "      <td>120308654</td>\n",
       "    </tr>\n",
       "    <tr>\n",
       "      <th>2015-08-11</th>\n",
       "      <td>17593.59</td>\n",
       "      <td>17593.59</td>\n",
       "      <td>17352.63</td>\n",
       "      <td>17402.84</td>\n",
       "      <td>102953043</td>\n",
       "    </tr>\n",
       "    <tr>\n",
       "      <th>2015-08-10</th>\n",
       "      <td>17375.18</td>\n",
       "      <td>17629.13</td>\n",
       "      <td>17375.18</td>\n",
       "      <td>17615.17</td>\n",
       "      <td>92430507</td>\n",
       "    </tr>\n",
       "    <tr>\n",
       "      <th>2015-08-07</th>\n",
       "      <td>17414.94</td>\n",
       "      <td>17414.94</td>\n",
       "      <td>17279.08</td>\n",
       "      <td>17373.38</td>\n",
       "      <td>81809327</td>\n",
       "    </tr>\n",
       "    <tr>\n",
       "      <th>2015-08-06</th>\n",
       "      <td>17542.61</td>\n",
       "      <td>17572.04</td>\n",
       "      <td>17362.86</td>\n",
       "      <td>17419.75</td>\n",
       "      <td>96179868</td>\n",
       "    </tr>\n",
       "  </tbody>\n",
       "</table>\n",
       "<p>1258 rows × 5 columns</p>\n",
       "</div>"
      ],
      "text/plain": [
       "                Open      High       Low     Close     Volume\n",
       "Date                                                         \n",
       "2020-08-04  26664.61  26832.72  26597.82  26828.47  275635300\n",
       "2020-08-03  26542.32  26707.26  26534.38  26664.40  440843730\n",
       "2020-07-31  26409.33  26440.02  26013.59  26428.32  492830042\n",
       "2020-07-30  26367.42  26374.93  25992.28  26313.65  362616878\n",
       "2020-07-29  26388.44  26602.45  26375.39  26539.57  348596822\n",
       "...              ...       ...       ...       ...        ...\n",
       "2015-08-12  17382.93  17423.90  17125.81  17402.51  120308654\n",
       "2015-08-11  17593.59  17593.59  17352.63  17402.84  102953043\n",
       "2015-08-10  17375.18  17629.13  17375.18  17615.17   92430507\n",
       "2015-08-07  17414.94  17414.94  17279.08  17373.38   81809327\n",
       "2015-08-06  17542.61  17572.04  17362.86  17419.75   96179868\n",
       "\n",
       "[1258 rows x 5 columns]"
      ]
     },
     "execution_count": 6,
     "metadata": {},
     "output_type": "execute_result"
    },
    {
     "data": {
      "application/javascript": [
       "\n",
       "            setTimeout(function() {\n",
       "                var nbb_cell_id = 6;\n",
       "                var nbb_unformatted_code = \"import pandas_datareader.data as web\\nimport matplotlib.pyplot as plt\\n\\ndf = web.DataReader('^DJI', 'stooq')\\ndf\";\n",
       "                var nbb_formatted_code = \"import pandas_datareader.data as web\\nimport matplotlib.pyplot as plt\\n\\ndf = web.DataReader(\\\"^DJI\\\", \\\"stooq\\\")\\ndf\";\n",
       "                var nbb_cells = Jupyter.notebook.get_cells();\n",
       "                for (var i = 0; i < nbb_cells.length; ++i) {\n",
       "                    if (nbb_cells[i].input_prompt_number == nbb_cell_id) {\n",
       "                        if (nbb_cells[i].get_text() == nbb_unformatted_code) {\n",
       "                             nbb_cells[i].set_text(nbb_formatted_code);\n",
       "                        }\n",
       "                        break;\n",
       "                    }\n",
       "                }\n",
       "            }, 500);\n",
       "            "
      ],
      "text/plain": [
       "<IPython.core.display.Javascript object>"
      ]
     },
     "metadata": {},
     "output_type": "display_data"
    }
   ],
   "source": [
    "import pandas_datareader.data as web\n",
    "import matplotlib.pyplot as plt\n",
    "\n",
    "df = web.DataReader(\"^DJI\", \"stooq\")\n",
    "df"
   ]
  },
  {
   "cell_type": "code",
   "execution_count": 13,
   "metadata": {},
   "outputs": [
    {
     "data": {
      "text/plain": [
       "[<matplotlib.lines.Line2D at 0x7fe30e645070>]"
      ]
     },
     "execution_count": 13,
     "metadata": {},
     "output_type": "execute_result"
    },
    {
     "data": {
      "image/png": "[encoded data removed]",
      "text/plain": [
       "<Figure size 432x288 with 1 Axes>"
      ]
     },
     "metadata": {
      "needs_background": "light"
     },
     "output_type": "display_data"
    },
    {
     "data": {
      "application/javascript": [
       "\n",
       "            setTimeout(function() {\n",
       "                var nbb_cell_id = 13;\n",
       "                var nbb_unformatted_code = \"fig, ax = plt.subplots()\\n\\nax.plot(df.Close, color=\\\"black\\\")\";\n",
       "                var nbb_formatted_code = \"fig, ax = plt.subplots()\\n\\nax.plot(df.Close, color=\\\"black\\\")\";\n",
       "                var nbb_cells = Jupyter.notebook.get_cells();\n",
       "                for (var i = 0; i < nbb_cells.length; ++i) {\n",
       "                    if (nbb_cells[i].input_prompt_number == nbb_cell_id) {\n",
       "                        if (nbb_cells[i].get_text() == nbb_unformatted_code) {\n",
       "                             nbb_cells[i].set_text(nbb_formatted_code);\n",
       "                        }\n",
       "                        break;\n",
       "                    }\n",
       "                }\n",
       "            }, 500);\n",
       "            "
      ],
      "text/plain": [
       "<IPython.core.display.Javascript object>"
      ]
     },
     "metadata": {},
     "output_type": "display_data"
    }
   ],
   "source": [
    "fig, ax = plt.subplots()\n",
    "\n",
    "ax.plot(df.Close, color=\"black\")"
   ]
  },
  {
   "cell_type": "code",
   "execution_count": 14,
   "metadata": {},
   "outputs": [
    {
     "data": {
      "text/plain": [
       "15660.18"
      ]
     },
     "execution_count": 14,
     "metadata": {},
     "output_type": "execute_result"
    },
    {
     "data": {
      "application/javascript": [
       "\n",
       "            setTimeout(function() {\n",
       "                var nbb_cell_id = 14;\n",
       "                var nbb_unformatted_code = \"price_min = df.Close.min()\\ndf.Close.min()\";\n",
       "                var nbb_formatted_code = \"price_min = df.Close.min()\\ndf.Close.min()\";\n",
       "                var nbb_cells = Jupyter.notebook.get_cells();\n",
       "                for (var i = 0; i < nbb_cells.length; ++i) {\n",
       "                    if (nbb_cells[i].input_prompt_number == nbb_cell_id) {\n",
       "                        if (nbb_cells[i].get_text() == nbb_unformatted_code) {\n",
       "                             nbb_cells[i].set_text(nbb_formatted_code);\n",
       "                        }\n",
       "                        break;\n",
       "                    }\n",
       "                }\n",
       "            }, 500);\n",
       "            "
      ],
      "text/plain": [
       "<IPython.core.display.Javascript object>"
      ]
     },
     "metadata": {},
     "output_type": "display_data"
    }
   ],
   "source": [
    "price_min = df.Close.min()\n",
    "df.Close.min()"
   ]
  },
  {
   "cell_type": "code",
   "execution_count": 15,
   "metadata": {},
   "outputs": [
    {
     "data": {
      "text/plain": [
       "29551.42"
      ]
     },
     "execution_count": 15,
     "metadata": {},
     "output_type": "execute_result"
    },
    {
     "data": {
      "application/javascript": [
       "\n",
       "            setTimeout(function() {\n",
       "                var nbb_cell_id = 15;\n",
       "                var nbb_unformatted_code = \"price_max = df.Close.max()\\ndf.Close.max()\";\n",
       "                var nbb_formatted_code = \"price_max = df.Close.max()\\ndf.Close.max()\";\n",
       "                var nbb_cells = Jupyter.notebook.get_cells();\n",
       "                for (var i = 0; i < nbb_cells.length; ++i) {\n",
       "                    if (nbb_cells[i].input_prompt_number == nbb_cell_id) {\n",
       "                        if (nbb_cells[i].get_text() == nbb_unformatted_code) {\n",
       "                             nbb_cells[i].set_text(nbb_formatted_code);\n",
       "                        }\n",
       "                        break;\n",
       "                    }\n",
       "                }\n",
       "            }, 500);\n",
       "            "
      ],
      "text/plain": [
       "<IPython.core.display.Javascript object>"
      ]
     },
     "metadata": {},
     "output_type": "display_data"
    }
   ],
   "source": [
    "price_max = df.Close.max()\n",
    "df.Close.max()"
   ]
  },
  {
   "cell_type": "code",
   "execution_count": 16,
   "metadata": {},
   "outputs": [
    {
     "name": "stderr",
     "output_type": "stream",
     "text": [
      "WARNING:matplotlib.legend:No handles with labels found to put in legend.\n"
     ]
    },
    {
     "name": "stdout",
     "output_type": "stream",
     "text": [
      "Level Price\n",
      "0  29551.42\n",
      "0.236 26273.087359999998\n",
      "0.382 24244.96632\n",
      "0.618 20966.63368\n",
      "1  15660.18\n"
     ]
    },
    {
     "data": {
      "image/png": "[encoded data removed]",
      "text/plain": [
       "<Figure size 432x288 with 1 Axes>"
      ]
     },
     "metadata": {
      "needs_background": "light"
     },
     "output_type": "display_data"
    },
    {
     "data": {
      "application/javascript": [
       "\n",
       "            setTimeout(function() {\n",
       "                var nbb_cell_id = 16;\n",
       "                var nbb_unformatted_code = \"diff = price_max - price_min\\nlevel1 = price_max - 0.236 * diff\\nlevel2 = price_max - 0.382 * diff\\nlevel3 = price_max - 0.618 * diff\\n\\nprint(\\\"Level\\\", \\\"Price\\\")\\nprint(\\\"0 \\\", price_max)\\nprint(\\\"0.236\\\", level1)\\nprint(\\\"0.382\\\", level2)\\nprint(\\\"0.618\\\", level3)\\nprint(\\\"1 \\\", price_min)\\n\\nax.axhspan(level1, price_min, alpha=0.4, color=\\\"lightsalmon\\\")\\nax.axhspan(level2, level1, alpha=0.5, color=\\\"palegoldenrod\\\")\\nax.axhspan(level3, level2, alpha=0.5, color=\\\"palegreen\\\")\\nax.axhspan(price_max, level3, alpha=0.5, color=\\\"powderblue\\\")\\n\\nplt.ylabel(\\\"Price\\\")\\nplt.xlabel(\\\"Date\\\")\\nplt.legend(loc=2)\\nplt.show()\";\n",
       "                var nbb_formatted_code = \"diff = price_max - price_min\\nlevel1 = price_max - 0.236 * diff\\nlevel2 = price_max - 0.382 * diff\\nlevel3 = price_max - 0.618 * diff\\n\\nprint(\\\"Level\\\", \\\"Price\\\")\\nprint(\\\"0 \\\", price_max)\\nprint(\\\"0.236\\\", level1)\\nprint(\\\"0.382\\\", level2)\\nprint(\\\"0.618\\\", level3)\\nprint(\\\"1 \\\", price_min)\\n\\nax.axhspan(level1, price_min, alpha=0.4, color=\\\"lightsalmon\\\")\\nax.axhspan(level2, level1, alpha=0.5, color=\\\"palegoldenrod\\\")\\nax.axhspan(level3, level2, alpha=0.5, color=\\\"palegreen\\\")\\nax.axhspan(price_max, level3, alpha=0.5, color=\\\"powderblue\\\")\\n\\nplt.ylabel(\\\"Price\\\")\\nplt.xlabel(\\\"Date\\\")\\nplt.legend(loc=2)\\nplt.show()\";\n",
       "                var nbb_cells = Jupyter.notebook.get_cells();\n",
       "                for (var i = 0; i < nbb_cells.length; ++i) {\n",
       "                    if (nbb_cells[i].input_prompt_number == nbb_cell_id) {\n",
       "                        if (nbb_cells[i].get_text() == nbb_unformatted_code) {\n",
       "                             nbb_cells[i].set_text(nbb_formatted_code);\n",
       "                        }\n",
       "                        break;\n",
       "                    }\n",
       "                }\n",
       "            }, 500);\n",
       "            "
      ],
      "text/plain": [
       "<IPython.core.display.Javascript object>"
      ]
     },
     "metadata": {},
     "output_type": "display_data"
    }
   ],
   "source": [
    "diff = price_max - price_min\n",
    "level1 = price_max - 0.236 * diff\n",
    "level2 = price_max - 0.382 * diff\n",
    "level3 = price_max - 0.618 * diff\n",
    "\n",
    "print(\"Level\", \"Price\")\n",
    "print(\"0 \", price_max)\n",
    "print(\"0.236\", level1)\n",
    "print(\"0.382\", level2)\n",
    "print(\"0.618\", level3)\n",
    "print(\"1 \", price_min)\n",
    "\n",
    "ax.axhspan(level1, price_min, alpha=0.4, color=\"lightsalmon\")\n",
    "ax.axhspan(level2, level1, alpha=0.5, color=\"palegoldenrod\")\n",
    "ax.axhspan(level3, level2, alpha=0.5, color=\"palegreen\")\n",
    "ax.axhspan(price_max, level3, alpha=0.5, color=\"powderblue\")\n",
    "\n",
    "plt.ylabel(\"Price\")\n",
    "plt.xlabel(\"Date\")\n",
    "plt.legend(loc=2)\n",
    "plt.show()"
   ]
  }
 ],
 "metadata": {
  "kernelspec": {
   "display_name": "Python 3.8.2 64-bit",
   "language": "python",
   "name": "python38264bita9a0329ecd1948ce89aa60c195c8763d"
  },
  "language_info": {
   "codemirror_mode": {
    "name": "ipython",
    "version": 3
   },
   "file_extension": ".py",
   "mimetype": "text/x-python",
   "name": "python",
   "nbconvert_exporter": "python",
   "pygments_lexer": "ipython3",
   "version": "3.8.2"
  }
 },
 "nbformat": 4,
 "nbformat_minor": 2
}
