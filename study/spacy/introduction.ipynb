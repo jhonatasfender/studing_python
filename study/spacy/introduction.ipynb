{
 "cells": [
  {
   "cell_type": "code",
   "execution_count": 16,
   "metadata": {},
   "outputs": [
    {
     "name": "stdout",
     "output_type": "stream",
     "text": [
      "The nb_black extension is already loaded. To reload it, use:\n",
      "  %reload_ext nb_black\n"
     ]
    },
    {
     "data": {
      "application/javascript": [
       "\n",
       "            setTimeout(function() {\n",
       "                var nbb_cell_id = 16;\n",
       "                var nbb_unformatted_code = \"%load_ext nb_black\";\n",
       "                var nbb_formatted_code = \"%load_ext nb_black\";\n",
       "                var nbb_cells = Jupyter.notebook.get_cells();\n",
       "                for (var i = 0; i < nbb_cells.length; ++i) {\n",
       "                    if (nbb_cells[i].input_prompt_number == nbb_cell_id) {\n",
       "                        if (nbb_cells[i].get_text() == nbb_unformatted_code) {\n",
       "                             nbb_cells[i].set_text(nbb_formatted_code);\n",
       "                        }\n",
       "                        break;\n",
       "                    }\n",
       "                }\n",
       "            }, 500);\n",
       "            "
      ],
      "text/plain": [
       "<IPython.core.display.Javascript object>"
      ]
     },
     "metadata": {},
     "output_type": "display_data"
    }
   ],
   "source": [
    "%load_ext nb_black"
   ]
  },
  {
   "cell_type": "markdown",
   "metadata": {},
   "source": [
    "# Spacy"
   ]
  },
  {
   "cell_type": "code",
   "execution_count": 17,
   "metadata": {},
   "outputs": [
    {
     "data": {
      "application/javascript": [
       "\n",
       "            setTimeout(function() {\n",
       "                var nbb_cell_id = 17;\n",
       "                var nbb_unformatted_code = \"import spacy\";\n",
       "                var nbb_formatted_code = \"import spacy\";\n",
       "                var nbb_cells = Jupyter.notebook.get_cells();\n",
       "                for (var i = 0; i < nbb_cells.length; ++i) {\n",
       "                    if (nbb_cells[i].input_prompt_number == nbb_cell_id) {\n",
       "                        if (nbb_cells[i].get_text() == nbb_unformatted_code) {\n",
       "                             nbb_cells[i].set_text(nbb_formatted_code);\n",
       "                        }\n",
       "                        break;\n",
       "                    }\n",
       "                }\n",
       "            }, 500);\n",
       "            "
      ],
      "text/plain": [
       "<IPython.core.display.Javascript object>"
      ]
     },
     "metadata": {},
     "output_type": "display_data"
    }
   ],
   "source": [
    "import spacy"
   ]
  },
  {
   "cell_type": "code",
   "execution_count": 18,
   "metadata": {},
   "outputs": [
    {
     "data": {
      "application/javascript": [
       "\n",
       "            setTimeout(function() {\n",
       "                var nbb_cell_id = 18;\n",
       "                var nbb_unformatted_code = \"nlp = spacy.load(\\\"pt_core_news_sm\\\")\";\n",
       "                var nbb_formatted_code = \"nlp = spacy.load(\\\"pt_core_news_sm\\\")\";\n",
       "                var nbb_cells = Jupyter.notebook.get_cells();\n",
       "                for (var i = 0; i < nbb_cells.length; ++i) {\n",
       "                    if (nbb_cells[i].input_prompt_number == nbb_cell_id) {\n",
       "                        if (nbb_cells[i].get_text() == nbb_unformatted_code) {\n",
       "                             nbb_cells[i].set_text(nbb_formatted_code);\n",
       "                        }\n",
       "                        break;\n",
       "                    }\n",
       "                }\n",
       "            }, 500);\n",
       "            "
      ],
      "text/plain": [
       "<IPython.core.display.Javascript object>"
      ]
     },
     "metadata": {},
     "output_type": "display_data"
    }
   ],
   "source": [
    "nlp = spacy.load(\"pt_core_news_sm\")"
   ]
  },
  {
   "cell_type": "code",
   "execution_count": 19,
   "metadata": {},
   "outputs": [
    {
     "data": {
      "text/plain": [
       "Este é um teste"
      ]
     },
     "execution_count": 19,
     "metadata": {},
     "output_type": "execute_result"
    },
    {
     "data": {
      "application/javascript": [
       "\n",
       "            setTimeout(function() {\n",
       "                var nbb_cell_id = 19;\n",
       "                var nbb_unformatted_code = \"doc = nlp(u\\\"Este \\u00e9 um teste\\\")\\ndoc\";\n",
       "                var nbb_formatted_code = \"doc = nlp(u\\\"Este \\u00e9 um teste\\\")\\ndoc\";\n",
       "                var nbb_cells = Jupyter.notebook.get_cells();\n",
       "                for (var i = 0; i < nbb_cells.length; ++i) {\n",
       "                    if (nbb_cells[i].input_prompt_number == nbb_cell_id) {\n",
       "                        if (nbb_cells[i].get_text() == nbb_unformatted_code) {\n",
       "                             nbb_cells[i].set_text(nbb_formatted_code);\n",
       "                        }\n",
       "                        break;\n",
       "                    }\n",
       "                }\n",
       "            }, 500);\n",
       "            "
      ],
      "text/plain": [
       "<IPython.core.display.Javascript object>"
      ]
     },
     "metadata": {},
     "output_type": "display_data"
    }
   ],
   "source": [
    "doc = nlp(u\"Este é um teste\")\n",
    "doc"
   ]
  },
  {
   "cell_type": "code",
   "execution_count": 20,
   "metadata": {},
   "outputs": [
    {
     "name": "stdout",
     "output_type": "stream",
     "text": [
      "Este\n",
      "é\n",
      "um\n",
      "teste\n"
     ]
    },
    {
     "data": {
      "application/javascript": [
       "\n",
       "            setTimeout(function() {\n",
       "                var nbb_cell_id = 20;\n",
       "                var nbb_unformatted_code = \"for token in doc:\\n    print(token)\";\n",
       "                var nbb_formatted_code = \"for token in doc:\\n    print(token)\";\n",
       "                var nbb_cells = Jupyter.notebook.get_cells();\n",
       "                for (var i = 0; i < nbb_cells.length; ++i) {\n",
       "                    if (nbb_cells[i].input_prompt_number == nbb_cell_id) {\n",
       "                        if (nbb_cells[i].get_text() == nbb_unformatted_code) {\n",
       "                             nbb_cells[i].set_text(nbb_formatted_code);\n",
       "                        }\n",
       "                        break;\n",
       "                    }\n",
       "                }\n",
       "            }, 500);\n",
       "            "
      ],
      "text/plain": [
       "<IPython.core.display.Javascript object>"
      ]
     },
     "metadata": {},
     "output_type": "display_data"
    }
   ],
   "source": [
    "for token in doc:\n",
    "    print(token)"
   ]
  },
  {
   "cell_type": "markdown",
   "metadata": {},
   "source": [
    "## Com duas sentenças "
   ]
  },
  {
   "cell_type": "code",
   "execution_count": 21,
   "metadata": {},
   "outputs": [
    {
     "name": "stdout",
     "output_type": "stream",
     "text": [
      "Este é um teste.\n",
      "Este é outro Teste\n"
     ]
    },
    {
     "data": {
      "application/javascript": [
       "\n",
       "            setTimeout(function() {\n",
       "                var nbb_cell_id = 21;\n",
       "                var nbb_unformatted_code = \"doc = nlp(u\\\"Este \\u00e9 um teste. Este \\u00e9 outro Teste\\\")\\nfor sent in doc.sents:\\n    print(sent)\";\n",
       "                var nbb_formatted_code = \"doc = nlp(u\\\"Este \\u00e9 um teste. Este \\u00e9 outro Teste\\\")\\nfor sent in doc.sents:\\n    print(sent)\";\n",
       "                var nbb_cells = Jupyter.notebook.get_cells();\n",
       "                for (var i = 0; i < nbb_cells.length; ++i) {\n",
       "                    if (nbb_cells[i].input_prompt_number == nbb_cell_id) {\n",
       "                        if (nbb_cells[i].get_text() == nbb_unformatted_code) {\n",
       "                             nbb_cells[i].set_text(nbb_formatted_code);\n",
       "                        }\n",
       "                        break;\n",
       "                    }\n",
       "                }\n",
       "            }, 500);\n",
       "            "
      ],
      "text/plain": [
       "<IPython.core.display.Javascript object>"
      ]
     },
     "metadata": {},
     "output_type": "display_data"
    }
   ],
   "source": [
    "doc = nlp(u\"Este é um teste. Este é outro Teste\")\n",
    "for sent in doc.sents:\n",
    "    print(sent)"
   ]
  },
  {
   "cell_type": "code",
   "execution_count": 22,
   "metadata": {},
   "outputs": [
    {
     "name": "stdout",
     "output_type": "stream",
     "text": [
      "Este PRON\n",
      "é AUX\n",
      "um DET\n",
      "teste NOUN\n",
      ". PUNCT\n",
      "Este PRON\n",
      "é AUX\n",
      "outro DET\n",
      "Teste PROPN\n"
     ]
    },
    {
     "data": {
      "application/javascript": [
       "\n",
       "            setTimeout(function() {\n",
       "                var nbb_cell_id = 22;\n",
       "                var nbb_unformatted_code = \"for sent in doc.sents:\\n    for word in sent:\\n        print(word, word.pos_)\";\n",
       "                var nbb_formatted_code = \"for sent in doc.sents:\\n    for word in sent:\\n        print(word, word.pos_)\";\n",
       "                var nbb_cells = Jupyter.notebook.get_cells();\n",
       "                for (var i = 0; i < nbb_cells.length; ++i) {\n",
       "                    if (nbb_cells[i].input_prompt_number == nbb_cell_id) {\n",
       "                        if (nbb_cells[i].get_text() == nbb_unformatted_code) {\n",
       "                             nbb_cells[i].set_text(nbb_formatted_code);\n",
       "                        }\n",
       "                        break;\n",
       "                    }\n",
       "                }\n",
       "            }, 500);\n",
       "            "
      ],
      "text/plain": [
       "<IPython.core.display.Javascript object>"
      ]
     },
     "metadata": {},
     "output_type": "display_data"
    }
   ],
   "source": [
    "for sent in doc.sents:\n",
    "    for word in sent:\n",
    "        print(word, word.pos_)"
   ]
  },
  {
   "cell_type": "code",
   "execution_count": 23,
   "metadata": {},
   "outputs": [
    {
     "data": {
      "text/html": [
       "<div>\n",
       "<style scoped>\n",
       "    .dataframe tbody tr th:only-of-type {\n",
       "        vertical-align: middle;\n",
       "    }\n",
       "\n",
       "    .dataframe tbody tr th {\n",
       "        vertical-align: top;\n",
       "    }\n",
       "\n",
       "    .dataframe thead th {\n",
       "        text-align: right;\n",
       "    }\n",
       "</style>\n",
       "<table border=\"1\" class=\"dataframe\">\n",
       "  <thead>\n",
       "    <tr style=\"text-align: right;\">\n",
       "      <th></th>\n",
       "      <th>0</th>\n",
       "      <th>1</th>\n",
       "      <th>2</th>\n",
       "      <th>3</th>\n",
       "      <th>4</th>\n",
       "      <th>5</th>\n",
       "      <th>6</th>\n",
       "      <th>7</th>\n",
       "    </tr>\n",
       "  </thead>\n",
       "  <tbody>\n",
       "    <tr>\n",
       "      <th>0</th>\n",
       "      <td>Este</td>\n",
       "      <td>Este</td>\n",
       "      <td>PRON</td>\n",
       "      <td>PRON__Gender=Masc|Number=Sing|PronType=Dem</td>\n",
       "      <td>nsubj</td>\n",
       "      <td>Xxxx</td>\n",
       "      <td>True</td>\n",
       "      <td>True</td>\n",
       "    </tr>\n",
       "    <tr>\n",
       "      <th>1</th>\n",
       "      <td>é</td>\n",
       "      <td>ser</td>\n",
       "      <td>AUX</td>\n",
       "      <td>AUX__Mood=Ind|Number=Sing|Person=3|Tense=Pres|...</td>\n",
       "      <td>cop</td>\n",
       "      <td>x</td>\n",
       "      <td>True</td>\n",
       "      <td>True</td>\n",
       "    </tr>\n",
       "    <tr>\n",
       "      <th>2</th>\n",
       "      <td>um</td>\n",
       "      <td>um</td>\n",
       "      <td>DET</td>\n",
       "      <td>DET__Definite=Ind|Gender=Masc|Number=Sing|Pron...</td>\n",
       "      <td>det</td>\n",
       "      <td>xx</td>\n",
       "      <td>True</td>\n",
       "      <td>True</td>\n",
       "    </tr>\n",
       "    <tr>\n",
       "      <th>3</th>\n",
       "      <td>teste</td>\n",
       "      <td>testar</td>\n",
       "      <td>NOUN</td>\n",
       "      <td>NOUN__Gender=Masc|Number=Sing</td>\n",
       "      <td>ROOT</td>\n",
       "      <td>xxxx</td>\n",
       "      <td>True</td>\n",
       "      <td>False</td>\n",
       "    </tr>\n",
       "    <tr>\n",
       "      <th>4</th>\n",
       "      <td>.</td>\n",
       "      <td>.</td>\n",
       "      <td>PUNCT</td>\n",
       "      <td>PUNCT</td>\n",
       "      <td>punct</td>\n",
       "      <td>.</td>\n",
       "      <td>False</td>\n",
       "      <td>False</td>\n",
       "    </tr>\n",
       "    <tr>\n",
       "      <th>5</th>\n",
       "      <td>Este</td>\n",
       "      <td>Este</td>\n",
       "      <td>PRON</td>\n",
       "      <td>PRON__Gender=Masc|Number=Sing|PronType=Dem</td>\n",
       "      <td>nsubj</td>\n",
       "      <td>Xxxx</td>\n",
       "      <td>True</td>\n",
       "      <td>True</td>\n",
       "    </tr>\n",
       "    <tr>\n",
       "      <th>6</th>\n",
       "      <td>é</td>\n",
       "      <td>ser</td>\n",
       "      <td>AUX</td>\n",
       "      <td>AUX__Mood=Ind|Number=Sing|Person=3|Tense=Pres|...</td>\n",
       "      <td>cop</td>\n",
       "      <td>x</td>\n",
       "      <td>True</td>\n",
       "      <td>True</td>\n",
       "    </tr>\n",
       "    <tr>\n",
       "      <th>7</th>\n",
       "      <td>outro</td>\n",
       "      <td>outro</td>\n",
       "      <td>DET</td>\n",
       "      <td>DET__Gender=Masc|Number=Sing|PronType=Ind</td>\n",
       "      <td>det</td>\n",
       "      <td>xxxx</td>\n",
       "      <td>True</td>\n",
       "      <td>False</td>\n",
       "    </tr>\n",
       "    <tr>\n",
       "      <th>8</th>\n",
       "      <td>Teste</td>\n",
       "      <td>Teste</td>\n",
       "      <td>PROPN</td>\n",
       "      <td>PROPN__Gender=Masc|Number=Sing</td>\n",
       "      <td>ROOT</td>\n",
       "      <td>Xxxxx</td>\n",
       "      <td>True</td>\n",
       "      <td>False</td>\n",
       "    </tr>\n",
       "  </tbody>\n",
       "</table>\n",
       "</div>"
      ],
      "text/plain": [
       "       0       1      2                                                  3  \\\n",
       "0   Este    Este   PRON         PRON__Gender=Masc|Number=Sing|PronType=Dem   \n",
       "1      é     ser    AUX  AUX__Mood=Ind|Number=Sing|Person=3|Tense=Pres|...   \n",
       "2     um      um    DET  DET__Definite=Ind|Gender=Masc|Number=Sing|Pron...   \n",
       "3  teste  testar   NOUN                      NOUN__Gender=Masc|Number=Sing   \n",
       "4      .       .  PUNCT                                              PUNCT   \n",
       "5   Este    Este   PRON         PRON__Gender=Masc|Number=Sing|PronType=Dem   \n",
       "6      é     ser    AUX  AUX__Mood=Ind|Number=Sing|Person=3|Tense=Pres|...   \n",
       "7  outro   outro    DET          DET__Gender=Masc|Number=Sing|PronType=Ind   \n",
       "8  Teste   Teste  PROPN                     PROPN__Gender=Masc|Number=Sing   \n",
       "\n",
       "       4      5      6      7  \n",
       "0  nsubj   Xxxx   True   True  \n",
       "1    cop      x   True   True  \n",
       "2    det     xx   True   True  \n",
       "3   ROOT   xxxx   True  False  \n",
       "4  punct      .  False  False  \n",
       "5  nsubj   Xxxx   True   True  \n",
       "6    cop      x   True   True  \n",
       "7    det   xxxx   True  False  \n",
       "8   ROOT  Xxxxx   True  False  "
      ]
     },
     "execution_count": 23,
     "metadata": {},
     "output_type": "execute_result"
    },
    {
     "data": {
      "application/javascript": [
       "\n",
       "            setTimeout(function() {\n",
       "                var nbb_cell_id = 23;\n",
       "                var nbb_unformatted_code = \"import pandas as pd\\n\\nattr = []\\n\\nfor token in doc:\\n    attr.append(\\n        [\\n            token.text,\\n            token.lemma_,\\n            token.pos_,\\n            token.tag_,\\n            token.dep_,\\n            token.shape_,\\n            token.is_alpha,\\n            token.is_stop,\\n        ]\\n    )\\n\\npd.DataFrame(attr)\";\n",
       "                var nbb_formatted_code = \"import pandas as pd\\n\\nattr = []\\n\\nfor token in doc:\\n    attr.append(\\n        [\\n            token.text,\\n            token.lemma_,\\n            token.pos_,\\n            token.tag_,\\n            token.dep_,\\n            token.shape_,\\n            token.is_alpha,\\n            token.is_stop,\\n        ]\\n    )\\n\\npd.DataFrame(attr)\";\n",
       "                var nbb_cells = Jupyter.notebook.get_cells();\n",
       "                for (var i = 0; i < nbb_cells.length; ++i) {\n",
       "                    if (nbb_cells[i].input_prompt_number == nbb_cell_id) {\n",
       "                        if (nbb_cells[i].get_text() == nbb_unformatted_code) {\n",
       "                             nbb_cells[i].set_text(nbb_formatted_code);\n",
       "                        }\n",
       "                        break;\n",
       "                    }\n",
       "                }\n",
       "            }, 500);\n",
       "            "
      ],
      "text/plain": [
       "<IPython.core.display.Javascript object>"
      ]
     },
     "metadata": {},
     "output_type": "display_data"
    }
   ],
   "source": [
    "import pandas as pd\n",
    "\n",
    "attr = []\n",
    "\n",
    "for token in doc:\n",
    "    attr.append(\n",
    "        [\n",
    "            token.text,\n",
    "            token.lemma_,\n",
    "            token.pos_,\n",
    "            token.tag_,\n",
    "            token.dep_,\n",
    "            token.shape_,\n",
    "            token.is_alpha,\n",
    "            token.is_stop,\n",
    "        ]\n",
    "    )\n",
    "\n",
    "pd.DataFrame(attr)"
   ]
  },
  {
   "cell_type": "code",
   "execution_count": 24,
   "metadata": {},
   "outputs": [
    {
     "name": "stdout",
     "output_type": "stream",
     "text": [
      "Rato MISC\n",
      "Roma LOC\n"
     ]
    },
    {
     "data": {
      "application/javascript": [
       "\n",
       "            setTimeout(function() {\n",
       "                var nbb_cell_id = 24;\n",
       "                var nbb_unformatted_code = \"texto = nlp(\\\"O Rato roeu a roupa do rei de Roma\\\")\\nfor entidade in texto.ents:\\n    print(entidade.text, entidade.label_)\";\n",
       "                var nbb_formatted_code = \"texto = nlp(\\\"O Rato roeu a roupa do rei de Roma\\\")\\nfor entidade in texto.ents:\\n    print(entidade.text, entidade.label_)\";\n",
       "                var nbb_cells = Jupyter.notebook.get_cells();\n",
       "                for (var i = 0; i < nbb_cells.length; ++i) {\n",
       "                    if (nbb_cells[i].input_prompt_number == nbb_cell_id) {\n",
       "                        if (nbb_cells[i].get_text() == nbb_unformatted_code) {\n",
       "                             nbb_cells[i].set_text(nbb_formatted_code);\n",
       "                        }\n",
       "                        break;\n",
       "                    }\n",
       "                }\n",
       "            }, 500);\n",
       "            "
      ],
      "text/plain": [
       "<IPython.core.display.Javascript object>"
      ]
     },
     "metadata": {},
     "output_type": "display_data"
    }
   ],
   "source": [
    "texto = nlp(\"O Rato roeu a roupa do rei de Roma\")\n",
    "for entidade in texto.ents:\n",
    "    print(entidade.text, entidade.label_)"
   ]
  },
  {
   "cell_type": "code",
   "execution_count": 25,
   "metadata": {},
   "outputs": [
    {
     "data": {
      "text/html": [
       "<span class=\"tex2jax_ignore\"><div class=\"entities\" style=\"line-height: 2.5; direction: ltr\">\n",
       "<mark class=\"entity\" style=\"background: #ddd; padding: 0.45em 0.6em; margin: 0 0.25em; line-height: 1; border-radius: 0.35em;\">\n",
       "    Maria\n",
       "    <span style=\"font-size: 0.8em; font-weight: bold; line-height: 1; border-radius: 0.35em; text-transform: uppercase; vertical-align: middle; margin-left: 0.5rem\">PER</span>\n",
       "</mark>\n",
       " estã se mudando para \n",
       "<mark class=\"entity\" style=\"background: #ff9561; padding: 0.45em 0.6em; margin: 0 0.25em; line-height: 1; border-radius: 0.35em;\">\n",
       "    Paris\n",
       "    <span style=\"font-size: 0.8em; font-weight: bold; line-height: 1; border-radius: 0.35em; text-transform: uppercase; vertical-align: middle; margin-left: 0.5rem\">LOC</span>\n",
       "</mark>\n",
       ". No dia 01/02/2019 ela irá partir.</div></span>"
      ],
      "text/plain": [
       "<IPython.core.display.HTML object>"
      ]
     },
     "metadata": {},
     "output_type": "display_data"
    },
    {
     "data": {
      "application/javascript": [
       "\n",
       "            setTimeout(function() {\n",
       "                var nbb_cell_id = 25;\n",
       "                var nbb_unformatted_code = \"from spacy import displacy\\n\\ntexto = nlp(\\\"Maria est\\u00e3 se mudando para Paris. No dia 01/02/2019 ela ir\\u00e1 partir.\\\")\\n\\ndisplacy.render(texto, style=\\\"ent\\\", jupyter=True)\";\n",
       "                var nbb_formatted_code = \"from spacy import displacy\\n\\ntexto = nlp(\\\"Maria est\\u00e3 se mudando para Paris. No dia 01/02/2019 ela ir\\u00e1 partir.\\\")\\n\\ndisplacy.render(texto, style=\\\"ent\\\", jupyter=True)\";\n",
       "                var nbb_cells = Jupyter.notebook.get_cells();\n",
       "                for (var i = 0; i < nbb_cells.length; ++i) {\n",
       "                    if (nbb_cells[i].input_prompt_number == nbb_cell_id) {\n",
       "                        if (nbb_cells[i].get_text() == nbb_unformatted_code) {\n",
       "                             nbb_cells[i].set_text(nbb_formatted_code);\n",
       "                        }\n",
       "                        break;\n",
       "                    }\n",
       "                }\n",
       "            }, 500);\n",
       "            "
      ],
      "text/plain": [
       "<IPython.core.display.Javascript object>"
      ]
     },
     "metadata": {},
     "output_type": "display_data"
    }
   ],
   "source": [
    "from spacy import displacy\n",
    "\n",
    "texto = nlp(\"Maria estã se mudando para Paris. No dia 01/02/2019 ela irá partir.\")\n",
    "\n",
    "displacy.render(texto, style=\"ent\", jupyter=True)"
   ]
  },
  {
   "cell_type": "code",
   "execution_count": 26,
   "metadata": {},
   "outputs": [
    {
     "data": {
      "text/html": [
       "<span class=\"tex2jax_ignore\"><div class=\"entities\" style=\"line-height: 2.5; direction: ltr\">Data de \n",
       "<mark class=\"entity\" style=\"background: #ddd; padding: 0.45em 0.6em; margin: 0 0.25em; line-height: 1; border-radius: 0.35em;\">\n",
       "    Nascimento\n",
       "    <span style=\"font-size: 0.8em; font-weight: bold; line-height: 1; border-radius: 0.35em; text-transform: uppercase; vertical-align: middle; margin-left: 0.5rem\">MISC</span>\n",
       "</mark>\n",
       ": 28/01/1995</div></span>"
      ],
      "text/plain": [
       "<IPython.core.display.HTML object>"
      ]
     },
     "metadata": {},
     "output_type": "display_data"
    },
    {
     "data": {
      "text/html": [
       "<span class=\"tex2jax_ignore\"><div class=\"entities\" style=\"line-height: 2.5; direction: ltr\">No dia 28/01/2010 a \n",
       "<mark class=\"entity\" style=\"background: #ddd; padding: 0.45em 0.6em; margin: 0 0.25em; line-height: 1; border-radius: 0.35em;\">\n",
       "    Joana\n",
       "    <span style=\"font-size: 0.8em; font-weight: bold; line-height: 1; border-radius: 0.35em; text-transform: uppercase; vertical-align: middle; margin-left: 0.5rem\">PER</span>\n",
       "</mark>\n",
       " foi aprovada no vestibular.</div></span>"
      ],
      "text/plain": [
       "<IPython.core.display.HTML object>"
      ]
     },
     "metadata": {},
     "output_type": "display_data"
    },
    {
     "data": {
      "application/javascript": [
       "\n",
       "            setTimeout(function() {\n",
       "                var nbb_cell_id = 26;\n",
       "                var nbb_unformatted_code = \"texto = nlp(\\\"Data de Nascimento: 28/01/1995\\\")\\ndisplacy.render(texto, style=\\\"ent\\\", jupyter=True)\\ntexto = nlp(\\\"No dia 28/01/2010 a Joana foi aprovada no vestibular.\\\")\\ndisplacy.render(texto, style=\\\"ent\\\", jupyter=True)\";\n",
       "                var nbb_formatted_code = \"texto = nlp(\\\"Data de Nascimento: 28/01/1995\\\")\\ndisplacy.render(texto, style=\\\"ent\\\", jupyter=True)\\ntexto = nlp(\\\"No dia 28/01/2010 a Joana foi aprovada no vestibular.\\\")\\ndisplacy.render(texto, style=\\\"ent\\\", jupyter=True)\";\n",
       "                var nbb_cells = Jupyter.notebook.get_cells();\n",
       "                for (var i = 0; i < nbb_cells.length; ++i) {\n",
       "                    if (nbb_cells[i].input_prompt_number == nbb_cell_id) {\n",
       "                        if (nbb_cells[i].get_text() == nbb_unformatted_code) {\n",
       "                             nbb_cells[i].set_text(nbb_formatted_code);\n",
       "                        }\n",
       "                        break;\n",
       "                    }\n",
       "                }\n",
       "            }, 500);\n",
       "            "
      ],
      "text/plain": [
       "<IPython.core.display.Javascript object>"
      ]
     },
     "metadata": {},
     "output_type": "display_data"
    }
   ],
   "source": [
    "texto = nlp(\"Data de Nascimento: 28/01/1995\")\n",
    "displacy.render(texto, style=\"ent\", jupyter=True)\n",
    "texto = nlp(\"No dia 28/01/2010 a Joana foi aprovada no vestibular.\")\n",
    "displacy.render(texto, style=\"ent\", jupyter=True)"
   ]
  },
  {
   "cell_type": "markdown",
   "metadata": {},
   "source": [
    "https://github.com/explosion/spaCy/blob/master/examples/training/train_ner.py\n",
    "https://minerandodados.com.br/named-entity-recognition-como-isso-funciona/\n",
    "\n",
    "https://minerandodados.com.br/"
   ]
  },
  {
   "cell_type": "code",
   "execution_count": 27,
   "metadata": {},
   "outputs": [
    {
     "data": {
      "text/html": [
       "<div>\n",
       "<style scoped>\n",
       "    .dataframe tbody tr th:only-of-type {\n",
       "        vertical-align: middle;\n",
       "    }\n",
       "\n",
       "    .dataframe tbody tr th {\n",
       "        vertical-align: top;\n",
       "    }\n",
       "\n",
       "    .dataframe thead th {\n",
       "        text-align: right;\n",
       "    }\n",
       "</style>\n",
       "<table border=\"1\" class=\"dataframe\">\n",
       "  <thead>\n",
       "    <tr style=\"text-align: right;\">\n",
       "      <th></th>\n",
       "      <th>0</th>\n",
       "      <th>1</th>\n",
       "      <th>2</th>\n",
       "      <th>3</th>\n",
       "    </tr>\n",
       "  </thead>\n",
       "  <tbody>\n",
       "    <tr>\n",
       "      <th>0</th>\n",
       "      <td>João</td>\n",
       "      <td>0</td>\n",
       "      <td>4</td>\n",
       "      <td>PER</td>\n",
       "    </tr>\n",
       "    <tr>\n",
       "      <th>1</th>\n",
       "      <td>Bahia</td>\n",
       "      <td>16</td>\n",
       "      <td>21</td>\n",
       "      <td>LOC</td>\n",
       "    </tr>\n",
       "  </tbody>\n",
       "</table>\n",
       "</div>"
      ],
      "text/plain": [
       "       0   1   2    3\n",
       "0   João   0   4  PER\n",
       "1  Bahia  16  21  LOC"
      ]
     },
     "execution_count": 27,
     "metadata": {},
     "output_type": "execute_result"
    },
    {
     "data": {
      "application/javascript": [
       "\n",
       "            setTimeout(function() {\n",
       "                var nbb_cell_id = 27;\n",
       "                var nbb_unformatted_code = \"nlp = spacy.load(\\\"pt\\\")\\ndoc = nlp(\\\"Jo\\u00e3o foi para a Bahia nas f\\u00e9rias\\\")\\n\\nl = []\\n\\nfor ent in doc.ents:\\n    l.append([ent.text, ent.start_char, ent.end_char, ent.label_])\\n\\ndf = pd.DataFrame(l)\\ndf\";\n",
       "                var nbb_formatted_code = \"nlp = spacy.load(\\\"pt\\\")\\ndoc = nlp(\\\"Jo\\u00e3o foi para a Bahia nas f\\u00e9rias\\\")\\n\\nl = []\\n\\nfor ent in doc.ents:\\n    l.append([ent.text, ent.start_char, ent.end_char, ent.label_])\\n\\ndf = pd.DataFrame(l)\\ndf\";\n",
       "                var nbb_cells = Jupyter.notebook.get_cells();\n",
       "                for (var i = 0; i < nbb_cells.length; ++i) {\n",
       "                    if (nbb_cells[i].input_prompt_number == nbb_cell_id) {\n",
       "                        if (nbb_cells[i].get_text() == nbb_unformatted_code) {\n",
       "                             nbb_cells[i].set_text(nbb_formatted_code);\n",
       "                        }\n",
       "                        break;\n",
       "                    }\n",
       "                }\n",
       "            }, 500);\n",
       "            "
      ],
      "text/plain": [
       "<IPython.core.display.Javascript object>"
      ]
     },
     "metadata": {},
     "output_type": "display_data"
    }
   ],
   "source": [
    "nlp = spacy.load(\"pt\")\n",
    "doc = nlp(\"João foi para a Bahia nas férias\")\n",
    "\n",
    "l = []\n",
    "\n",
    "for ent in doc.ents:\n",
    "    l.append([ent.text, ent.start_char, ent.end_char, ent.label_])\n",
    "\n",
    "df = pd.DataFrame(l)\n",
    "df"
   ]
  },
  {
   "cell_type": "code",
   "execution_count": 38,
   "metadata": {},
   "outputs": [
    {
     "data": {
      "application/javascript": [
       "\n",
       "            setTimeout(function() {\n",
       "                var nbb_cell_id = 38;\n",
       "                var nbb_unformatted_code = \"!rm -rfd modelo_training.md\";\n",
       "                var nbb_formatted_code = \"!rm -rfd modelo_training.md\";\n",
       "                var nbb_cells = Jupyter.notebook.get_cells();\n",
       "                for (var i = 0; i < nbb_cells.length; ++i) {\n",
       "                    if (nbb_cells[i].input_prompt_number == nbb_cell_id) {\n",
       "                        if (nbb_cells[i].get_text() == nbb_unformatted_code) {\n",
       "                             nbb_cells[i].set_text(nbb_formatted_code);\n",
       "                        }\n",
       "                        break;\n",
       "                    }\n",
       "                }\n",
       "            }, 500);\n",
       "            "
      ],
      "text/plain": [
       "<IPython.core.display.Javascript object>"
      ]
     },
     "metadata": {},
     "output_type": "display_data"
    }
   ],
   "source": [
    "!rm -rfd modelo_training.md"
   ]
  },
  {
   "cell_type": "code",
   "execution_count": 39,
   "metadata": {},
   "outputs": [
    {
     "name": "stdout",
     "output_type": "stream",
     "text": [
      "Loaded model 'pt'\n",
      "Losses {'ner': 59.67005133628845}\n",
      "Losses {'ner': 76.95829010009766}\n",
      "Losses {'ner': 53.263267040252686}\n",
      "Losses {'ner': 55.601274490356445}\n",
      "Losses {'ner': 52.59015226364136}\n",
      "Losses {'ner': 49.67417860031128}\n",
      "Losses {'ner': 49.43789219856262}\n",
      "Losses {'ner': 61.2455632686615}\n",
      "Losses {'ner': 46.91835516691208}\n",
      "Losses {'ner': 45.76865291595459}\n",
      "Losses {'ner': 61.50110983848572}\n",
      "Losses {'ner': 50.87577486038208}\n",
      "Losses {'ner': 46.16376984119415}\n",
      "Losses {'ner': 51.64774024486542}\n",
      "Losses {'ner': 57.507986068725586}\n",
      "Losses {'ner': 51.65635681152344}\n",
      "Losses {'ner': 44.30109786987305}\n",
      "Losses {'ner': 47.161561489105225}\n",
      "Losses {'ner': 54.3447539806366}\n",
      "Losses {'ner': 48.946266412734985}\n",
      "Losses {'ner': 50.78671073913574}\n",
      "Losses {'ner': 39.711355447769165}\n",
      "Losses {'ner': 46.030919313430786}\n",
      "Losses {'ner': 49.10638511180878}\n",
      "Losses {'ner': 47.563944578170776}\n",
      "Losses {'ner': 46.52674388885498}\n",
      "Losses {'ner': 53.98042178153992}\n",
      "Losses {'ner': 47.70131778717041}\n",
      "Losses {'ner': 46.65449500083923}\n",
      "Losses {'ner': 45.22269558906555}\n",
      "Losses {'ner': 50.99809503555298}\n",
      "Losses {'ner': 50.84669375419617}\n",
      "Losses {'ner': 40.6522091627121}\n",
      "Losses {'ner': 51.82108950614929}\n",
      "Losses {'ner': 44.50386881828308}\n",
      "Losses {'ner': 50.00830268859863}\n",
      "Losses {'ner': 48.369747042655945}\n",
      "Losses {'ner': 40.48166000843048}\n",
      "Losses {'ner': 41.81776201725006}\n",
      "Losses {'ner': 46.32251787185669}\n",
      "Losses {'ner': 45.61601424217224}\n",
      "Losses {'ner': 48.90505385398865}\n",
      "Losses {'ner': 45.009676456451416}\n",
      "Losses {'ner': 43.33714175224304}\n",
      "Losses {'ner': 44.194008350372314}\n",
      "Losses {'ner': 48.51910328865051}\n",
      "Losses {'ner': 48.56387734413147}\n",
      "Losses {'ner': 42.49579668045044}\n",
      "Losses {'ner': 52.68067276477814}\n",
      "Losses {'ner': 45.591118812561035}\n",
      "Losses {'ner': 40.29238438606262}\n",
      "Losses {'ner': 45.454140424728394}\n",
      "Losses {'ner': 42.965078353881836}\n",
      "Losses {'ner': 51.56226563453674}\n",
      "Losses {'ner': 45.09461951255798}\n",
      "Losses {'ner': 45.132741928100586}\n",
      "Losses {'ner': 45.48998427391052}\n",
      "Losses {'ner': 39.634902000427246}\n",
      "Losses {'ner': 39.509546518325806}\n",
      "Losses {'ner': 46.92703557014465}\n",
      "Losses {'ner': 39.80195093154907}\n",
      "Losses {'ner': 36.26616656780243}\n",
      "Losses {'ner': 47.513306856155396}\n",
      "Losses {'ner': 49.64994716644287}\n",
      "Losses {'ner': 47.74843072891235}\n",
      "Losses {'ner': 48.0470552444458}\n",
      "Losses {'ner': 38.593738317489624}\n",
      "Losses {'ner': 41.18442440032959}\n",
      "Losses {'ner': 49.77410435676575}\n",
      "Losses {'ner': 48.7155864238739}\n",
      "Losses {'ner': 44.88715386390686}\n",
      "Losses {'ner': 44.843360900878906}\n",
      "Losses {'ner': 47.09188497066498}\n",
      "Losses {'ner': 48.313185691833496}\n",
      "Losses {'ner': 46.7666916847229}\n",
      "Losses {'ner': 49.15071439743042}\n",
      "Losses {'ner': 34.13716471195221}\n",
      "Losses {'ner': 45.74134612083435}\n",
      "Losses {'ner': 46.490567445755005}\n",
      "Losses {'ner': 51.36255168914795}\n",
      "Losses {'ner': 49.83947563171387}\n",
      "Losses {'ner': 44.092071533203125}\n",
      "Losses {'ner': 41.61882734298706}\n",
      "Losses {'ner': 44.33913064002991}\n",
      "Losses {'ner': 45.090699672698975}\n",
      "Losses {'ner': 44.083338022232056}\n",
      "Losses {'ner': 53.82128286361694}\n",
      "Losses {'ner': 45.900277853012085}\n",
      "Losses {'ner': 41.19921088218689}\n",
      "Losses {'ner': 53.023231506347656}\n",
      "Losses {'ner': 51.876285672187805}\n",
      "Losses {'ner': 43.50188851356506}\n",
      "Losses {'ner': 41.505192279815674}\n",
      "Losses {'ner': 47.739885330200195}\n",
      "Losses {'ner': 43.65260148048401}\n",
      "Losses {'ner': 42.36652445793152}\n",
      "Losses {'ner': 37.30856704711914}\n",
      "Losses {'ner': 49.86498761177063}\n",
      "Losses {'ner': 44.63500165939331}\n",
      "Losses {'ner': 44.5501583814621}\n",
      "Entities [('Austrália', 'LOC')]\n",
      "Tokens [('O', '', 2), ('sonho', '', 2), ('dela', '', 2), ('era', '', 2), ('ir', '', 2), ('para', '', 2), ('Austrália', 'LOC', 3), ('visitar', '', 2), ('seu', '', 2), ('irmão', '', 2)]\n",
      "Entities []\n",
      "Tokens [('No', '', 2), ('dia', '', 2), ('01/02/2016', '', 2), ('foi', '', 2), ('decretado', '', 2), ('a', '', 2), ('sentença', '', 2)]\n",
      "Entities [('João', 'LOC')]\n",
      "Tokens [('Fulano', '', 2), ('foi', '', 2), ('visitar', '', 2), ('João', 'LOC', 3), ('na', '', 2), ('casa', '', 2), ('de', '', 2), ('praia', '', 2)]\n",
      "Entities []\n",
      "Tokens [('Data', '', 2), ('de', '', 2), ('Prisão', '', 2), (':', '', 2), ('10/01/2018', '', 2)]\n",
      "Entities [('São Paulo', 'LOC')]\n",
      "Tokens [('No', '', 2), ('meio', '', 2), ('do', '', 2), ('ano', '', 2), ('irei', '', 2), ('para', '', 2), ('São', 'LOC', 3), ('Paulo', 'LOC', 1), ('fazer', '', 2), ('mais', '', 2), ('um', '', 2), ('curso', '', 2)]\n",
      "Entities []\n",
      "Tokens [('A', '', 2), ('data', '', 2), ('da', '', 2), ('festa', '', 2), ('foi', '', 2), ('07/05/2018', '', 2)]\n",
      "Entities [('Almira', 'PER')]\n",
      "Tokens [('Almira', 'PER', 3), ('é', '', 2), ('uma', '', 2), ('ótima', '', 2), ('pessoa', '', 2), (',', '', 2), ('gosto', '', 2), ('muito', '', 2), ('dela', '', 2)]\n",
      "Entities []\n",
      "Tokens [('Em', '', 2), ('15/07/1988', '', 2), ('nasceu', '', 2), ('essa', '', 2), ('linda', '', 2), ('criança', '', 2)]\n",
      "Saved model to modelo_training.md\n",
      "Loading from modelo_training.md\n",
      "Entities [('Austrália', 'LOC')]\n",
      "Tokens [('O', '', 2), ('sonho', '', 2), ('dela', '', 2), ('era', '', 2), ('ir', '', 2), ('para', '', 2), ('Austrália', 'LOC', 3), ('visitar', '', 2), ('seu', '', 2), ('irmão', '', 2)]\n",
      "Entities []\n",
      "Tokens [('No', '', 2), ('dia', '', 2), ('01/02/2016', '', 2), ('foi', '', 2), ('decretado', '', 2), ('a', '', 2), ('sentença', '', 2)]\n",
      "Entities [('João', 'LOC')]\n",
      "Tokens [('Fulano', '', 2), ('foi', '', 2), ('visitar', '', 2), ('João', 'LOC', 3), ('na', '', 2), ('casa', '', 2), ('de', '', 2), ('praia', '', 2)]\n",
      "Entities []\n",
      "Tokens [('Data', '', 2), ('de', '', 2), ('Prisão', '', 2), (':', '', 2), ('10/01/2018', '', 2)]\n",
      "Entities [('São Paulo', 'LOC')]\n",
      "Tokens [('No', '', 2), ('meio', '', 2), ('do', '', 2), ('ano', '', 2), ('irei', '', 2), ('para', '', 2), ('São', 'LOC', 3), ('Paulo', 'LOC', 1), ('fazer', '', 2), ('mais', '', 2), ('um', '', 2), ('curso', '', 2)]\n",
      "Entities []\n",
      "Tokens [('A', '', 2), ('data', '', 2), ('da', '', 2), ('festa', '', 2), ('foi', '', 2), ('07/05/2018', '', 2)]\n",
      "Entities [('Almira', 'PER')]\n",
      "Tokens [('Almira', 'PER', 3), ('é', '', 2), ('uma', '', 2), ('ótima', '', 2), ('pessoa', '', 2), (',', '', 2), ('gosto', '', 2), ('muito', '', 2), ('dela', '', 2)]\n",
      "Entities []\n",
      "Tokens [('Em', '', 2), ('15/07/1988', '', 2), ('nasceu', '', 2), ('essa', '', 2), ('linda', '', 2), ('criança', '', 2)]\n"
     ]
    },
    {
     "data": {
      "application/javascript": [
       "\n",
       "            setTimeout(function() {\n",
       "                var nbb_cell_id = 39;\n",
       "                var nbb_unformatted_code = \"!python3.8 ./training/train_ner.py -m pt -o modelo_training.md\";\n",
       "                var nbb_formatted_code = \"!python3.8 ./training/train_ner.py -m pt -o modelo_training.md\";\n",
       "                var nbb_cells = Jupyter.notebook.get_cells();\n",
       "                for (var i = 0; i < nbb_cells.length; ++i) {\n",
       "                    if (nbb_cells[i].input_prompt_number == nbb_cell_id) {\n",
       "                        if (nbb_cells[i].get_text() == nbb_unformatted_code) {\n",
       "                             nbb_cells[i].set_text(nbb_formatted_code);\n",
       "                        }\n",
       "                        break;\n",
       "                    }\n",
       "                }\n",
       "            }, 500);\n",
       "            "
      ],
      "text/plain": [
       "<IPython.core.display.Javascript object>"
      ]
     },
     "metadata": {},
     "output_type": "display_data"
    }
   ],
   "source": [
    "!python3.8 ./training/train_ner.py -m pt -o modelo_training.md"
   ]
  },
  {
   "cell_type": "code",
   "execution_count": 40,
   "metadata": {},
   "outputs": [
    {
     "data": {
      "application/javascript": [
       "\n",
       "            setTimeout(function() {\n",
       "                var nbb_cell_id = 40;\n",
       "                var nbb_unformatted_code = \"nlp = spacy.load(\\\"modelo_training.md\\\")\";\n",
       "                var nbb_formatted_code = \"nlp = spacy.load(\\\"modelo_training.md\\\")\";\n",
       "                var nbb_cells = Jupyter.notebook.get_cells();\n",
       "                for (var i = 0; i < nbb_cells.length; ++i) {\n",
       "                    if (nbb_cells[i].input_prompt_number == nbb_cell_id) {\n",
       "                        if (nbb_cells[i].get_text() == nbb_unformatted_code) {\n",
       "                             nbb_cells[i].set_text(nbb_formatted_code);\n",
       "                        }\n",
       "                        break;\n",
       "                    }\n",
       "                }\n",
       "            }, 500);\n",
       "            "
      ],
      "text/plain": [
       "<IPython.core.display.Javascript object>"
      ]
     },
     "metadata": {},
     "output_type": "display_data"
    }
   ],
   "source": [
    "nlp = spacy.load(\"modelo_training.md\")"
   ]
  },
  {
   "cell_type": "code",
   "execution_count": 41,
   "metadata": {},
   "outputs": [
    {
     "data": {
      "text/html": [
       "<span class=\"tex2jax_ignore\"><div class=\"entities\" style=\"line-height: 2.5; direction: ltr\">Data de Nascimento: 28/01/1975</div></span>"
      ],
      "text/plain": [
       "<IPython.core.display.HTML object>"
      ]
     },
     "metadata": {},
     "output_type": "display_data"
    },
    {
     "data": {
      "application/javascript": [
       "\n",
       "            setTimeout(function() {\n",
       "                var nbb_cell_id = 41;\n",
       "                var nbb_unformatted_code = \"texto = nlp(\\\"Data de Nascimento: 28/01/1975\\\")\\ndisplacy.render(texto, style=\\\"ent\\\", jupyter=True)\\n\\nfor ent in texto.ents:\\n    print(ent)\";\n",
       "                var nbb_formatted_code = \"texto = nlp(\\\"Data de Nascimento: 28/01/1975\\\")\\ndisplacy.render(texto, style=\\\"ent\\\", jupyter=True)\\n\\nfor ent in texto.ents:\\n    print(ent)\";\n",
       "                var nbb_cells = Jupyter.notebook.get_cells();\n",
       "                for (var i = 0; i < nbb_cells.length; ++i) {\n",
       "                    if (nbb_cells[i].input_prompt_number == nbb_cell_id) {\n",
       "                        if (nbb_cells[i].get_text() == nbb_unformatted_code) {\n",
       "                             nbb_cells[i].set_text(nbb_formatted_code);\n",
       "                        }\n",
       "                        break;\n",
       "                    }\n",
       "                }\n",
       "            }, 500);\n",
       "            "
      ],
      "text/plain": [
       "<IPython.core.display.Javascript object>"
      ]
     },
     "metadata": {},
     "output_type": "display_data"
    }
   ],
   "source": [
    "texto = nlp(\"Data de Nascimento: 28/01/1975\")\n",
    "displacy.render(texto, style=\"ent\", jupyter=True)\n",
    "\n",
    "for ent in texto.ents:\n",
    "    print(ent)"
   ]
  }
 ],
 "metadata": {
  "kernelspec": {
   "display_name": "Python 3",
   "language": "python",
   "name": "python3"
  },
  "language_info": {
   "codemirror_mode": {
    "name": "ipython",
    "version": 3
   },
   "file_extension": ".py",
   "mimetype": "text/x-python",
   "name": "python",
   "nbconvert_exporter": "python",
   "pygments_lexer": "ipython3",
   "version": "3.8.2"
  }
 },
 "nbformat": 4,
 "nbformat_minor": 2
}
