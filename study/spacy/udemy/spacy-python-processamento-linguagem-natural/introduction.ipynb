{
 "cells": [
  {
   "cell_type": "code",
   "execution_count": 3,
   "metadata": {},
   "outputs": [
    {
     "name": "stdout",
     "output_type": "stream",
     "text": [
      "The nb_black extension is already loaded. To reload it, use:\n",
      "  %reload_ext nb_black\n"
     ]
    },
    {
     "data": {
      "application/javascript": [
       "\n",
       "            setTimeout(function() {\n",
       "                var nbb_cell_id = 3;\n",
       "                var nbb_unformatted_code = \"%load_ext nb_black\";\n",
       "                var nbb_formatted_code = \"%load_ext nb_black\";\n",
       "                var nbb_cells = Jupyter.notebook.get_cells();\n",
       "                for (var i = 0; i < nbb_cells.length; ++i) {\n",
       "                    if (nbb_cells[i].input_prompt_number == nbb_cell_id) {\n",
       "                        if (nbb_cells[i].get_text() == nbb_unformatted_code) {\n",
       "                             nbb_cells[i].set_text(nbb_formatted_code);\n",
       "                        }\n",
       "                        break;\n",
       "                    }\n",
       "                }\n",
       "            }, 500);\n",
       "            "
      ],
      "text/plain": [
       "<IPython.core.display.Javascript object>"
      ]
     },
     "metadata": {},
     "output_type": "display_data"
    }
   ],
   "source": [
    "%load_ext nb_black"
   ]
  },
  {
   "cell_type": "code",
   "execution_count": 4,
   "metadata": {},
   "outputs": [
    {
     "data": {
      "text/plain": [
       "'2.3.2'"
      ]
     },
     "execution_count": 4,
     "metadata": {},
     "output_type": "execute_result"
    },
    {
     "data": {
      "application/javascript": [
       "\n",
       "            setTimeout(function() {\n",
       "                var nbb_cell_id = 4;\n",
       "                var nbb_unformatted_code = \"import spacy\\nspacy.__version__\";\n",
       "                var nbb_formatted_code = \"import spacy\\n\\nspacy.__version__\";\n",
       "                var nbb_cells = Jupyter.notebook.get_cells();\n",
       "                for (var i = 0; i < nbb_cells.length; ++i) {\n",
       "                    if (nbb_cells[i].input_prompt_number == nbb_cell_id) {\n",
       "                        if (nbb_cells[i].get_text() == nbb_unformatted_code) {\n",
       "                             nbb_cells[i].set_text(nbb_formatted_code);\n",
       "                        }\n",
       "                        break;\n",
       "                    }\n",
       "                }\n",
       "            }, 500);\n",
       "            "
      ],
      "text/plain": [
       "<IPython.core.display.Javascript object>"
      ]
     },
     "metadata": {},
     "output_type": "display_data"
    }
   ],
   "source": [
    "import spacy\n",
    "\n",
    "spacy.__version__"
   ]
  },
  {
   "cell_type": "code",
   "execution_count": 5,
   "metadata": {},
   "outputs": [
    {
     "data": {
      "text/plain": [
       "<spacy.lang.pt.Portuguese at 0x7fdea0679880>"
      ]
     },
     "execution_count": 5,
     "metadata": {},
     "output_type": "execute_result"
    },
    {
     "data": {
      "application/javascript": [
       "\n",
       "            setTimeout(function() {\n",
       "                var nbb_cell_id = 5;\n",
       "                var nbb_unformatted_code = \"pln = spacy.load('pt')\\npln\";\n",
       "                var nbb_formatted_code = \"pln = spacy.load(\\\"pt\\\")\\npln\";\n",
       "                var nbb_cells = Jupyter.notebook.get_cells();\n",
       "                for (var i = 0; i < nbb_cells.length; ++i) {\n",
       "                    if (nbb_cells[i].input_prompt_number == nbb_cell_id) {\n",
       "                        if (nbb_cells[i].get_text() == nbb_unformatted_code) {\n",
       "                             nbb_cells[i].set_text(nbb_formatted_code);\n",
       "                        }\n",
       "                        break;\n",
       "                    }\n",
       "                }\n",
       "            }, 500);\n",
       "            "
      ],
      "text/plain": [
       "<IPython.core.display.Javascript object>"
      ]
     },
     "metadata": {},
     "output_type": "display_data"
    }
   ],
   "source": [
    "pln = spacy.load(\"pt\")\n",
    "pln"
   ]
  },
  {
   "cell_type": "code",
   "execution_count": 7,
   "metadata": {},
   "outputs": [
    {
     "data": {
      "application/javascript": [
       "\n",
       "            setTimeout(function() {\n",
       "                var nbb_cell_id = 7;\n",
       "                var nbb_unformatted_code = \"documento = pln('Estou aprendendo processamento de linguagem natura, curso em Curitiba')\";\n",
       "                var nbb_formatted_code = \"documento = pln(\\\"Estou aprendendo processamento de linguagem natura, curso em Curitiba\\\")\";\n",
       "                var nbb_cells = Jupyter.notebook.get_cells();\n",
       "                for (var i = 0; i < nbb_cells.length; ++i) {\n",
       "                    if (nbb_cells[i].input_prompt_number == nbb_cell_id) {\n",
       "                        if (nbb_cells[i].get_text() == nbb_unformatted_code) {\n",
       "                             nbb_cells[i].set_text(nbb_formatted_code);\n",
       "                        }\n",
       "                        break;\n",
       "                    }\n",
       "                }\n",
       "            }, 500);\n",
       "            "
      ],
      "text/plain": [
       "<IPython.core.display.Javascript object>"
      ]
     },
     "metadata": {},
     "output_type": "display_data"
    }
   ],
   "source": [
    "documento = pln(\"Estou aprendendo processamento de linguagem natura, curso em Curitiba\")"
   ]
  },
  {
   "cell_type": "markdown",
   "metadata": {},
   "source": [
    "https://spacy.io/api/annotation#pos-tagging\n",
    "\n",
    "https://www.sketchengine.eu/portuguese-freeling-part-of-speech-tagset/"
   ]
  },
  {
   "cell_type": "code",
   "execution_count": 9,
   "metadata": {},
   "outputs": [
    {
     "name": "stdout",
     "output_type": "stream",
     "text": [
      "Estou AUX\n",
      "aprendendo VERB\n",
      "processamento NOUN\n",
      "de ADP\n",
      "linguagem NOUN\n",
      "natura ADJ\n",
      ", PUNCT\n",
      "curso NOUN\n",
      "em ADP\n",
      "Curitiba PROPN\n"
     ]
    },
    {
     "data": {
      "application/javascript": [
       "\n",
       "            setTimeout(function() {\n",
       "                var nbb_cell_id = 9;\n",
       "                var nbb_unformatted_code = \"for token in documento:\\n    print(token.text, token.pos_)\";\n",
       "                var nbb_formatted_code = \"for token in documento:\\n    print(token.text, token.pos_)\";\n",
       "                var nbb_cells = Jupyter.notebook.get_cells();\n",
       "                for (var i = 0; i < nbb_cells.length; ++i) {\n",
       "                    if (nbb_cells[i].input_prompt_number == nbb_cell_id) {\n",
       "                        if (nbb_cells[i].get_text() == nbb_unformatted_code) {\n",
       "                             nbb_cells[i].set_text(nbb_formatted_code);\n",
       "                        }\n",
       "                        break;\n",
       "                    }\n",
       "                }\n",
       "            }, 500);\n",
       "            "
      ],
      "text/plain": [
       "<IPython.core.display.Javascript object>"
      ]
     },
     "metadata": {},
     "output_type": "display_data"
    }
   ],
   "source": [
    "for token in documento:\n",
    "    print(token.text, token.pos_)"
   ]
  },
  {
   "cell_type": "code",
   "execution_count": 12,
   "metadata": {},
   "outputs": [
    {
     "name": "stdout",
     "output_type": "stream",
     "text": [
      "Estou Estou AUX AUX__Mood=Ind|Number=Sing|Person=1|Tense=Pres|VerbForm=Fin aux Xxxxx True True\n",
      "aprendendo aprender VERB VERB__VerbForm=Ger ROOT xxxx True False\n",
      "processamento processamento NOUN NOUN__Gender=Masc|Number=Sing obj xxxx True False\n",
      "de de ADP ADP case xx True True\n",
      "linguagem linguagem NOUN NOUN__Gender=Fem|Number=Sing nmod xxxx True False\n",
      "natura natura ADJ ADJ__Gender=Fem|Number=Sing amod xxxx True False\n",
      ", , PUNCT PUNCT punct , False False\n",
      "curso cursar NOUN NOUN__Gender=Masc|Number=Sing appos xxxx True False\n",
      "em em ADP ADP case xx True True\n",
      "Curitiba Curitiba PROPN PROPN__Gender=Masc|Number=Sing nmod Xxxxx True False\n"
     ]
    },
    {
     "data": {
      "application/javascript": [
       "\n",
       "            setTimeout(function() {\n",
       "                var nbb_cell_id = 12;\n",
       "                var nbb_unformatted_code = \"for token in documento:\\n    print(\\n        token.text,\\n        token.lemma_,\\n        token.pos_,\\n        token.tag_,\\n        token.dep_,\\n        token.shape_,\\n        token.is_alpha,\\n        token.is_stop,\\n    )\";\n",
       "                var nbb_formatted_code = \"for token in documento:\\n    print(\\n        token.text,\\n        token.lemma_,\\n        token.pos_,\\n        token.tag_,\\n        token.dep_,\\n        token.shape_,\\n        token.is_alpha,\\n        token.is_stop,\\n    )\";\n",
       "                var nbb_cells = Jupyter.notebook.get_cells();\n",
       "                for (var i = 0; i < nbb_cells.length; ++i) {\n",
       "                    if (nbb_cells[i].input_prompt_number == nbb_cell_id) {\n",
       "                        if (nbb_cells[i].get_text() == nbb_unformatted_code) {\n",
       "                             nbb_cells[i].set_text(nbb_formatted_code);\n",
       "                        }\n",
       "                        break;\n",
       "                    }\n",
       "                }\n",
       "            }, 500);\n",
       "            "
      ],
      "text/plain": [
       "<IPython.core.display.Javascript object>"
      ]
     },
     "metadata": {},
     "output_type": "display_data"
    }
   ],
   "source": [
    "for token in documento:\n",
    "    print(\n",
    "        token.text,\n",
    "        token.lemma_,\n",
    "        token.pos_,\n",
    "        token.tag_,\n",
    "        token.dep_,\n",
    "        token.shape_,\n",
    "        token.is_alpha,\n",
    "        token.is_stop,\n",
    "    )"
   ]
  },
  {
   "cell_type": "code",
   "execution_count": 13,
   "metadata": {},
   "outputs": [
    {
     "data": {
      "text/plain": [
       "['encontrar', 'encontrar', 'encontrar', 'encontrar']"
      ]
     },
     "execution_count": 13,
     "metadata": {},
     "output_type": "execute_result"
    },
    {
     "data": {
      "application/javascript": [
       "\n",
       "            setTimeout(function() {\n",
       "                var nbb_cell_id = 13;\n",
       "                var nbb_unformatted_code = \"doc = pln('encontrei encontraram encontrar\\u00e3o encontrariam ')\\n[token.lemma_ for token in doc]\";\n",
       "                var nbb_formatted_code = \"doc = pln(\\\"encontrei encontraram encontrar\\u00e3o encontrariam \\\")\\n[token.lemma_ for token in doc]\";\n",
       "                var nbb_cells = Jupyter.notebook.get_cells();\n",
       "                for (var i = 0; i < nbb_cells.length; ++i) {\n",
       "                    if (nbb_cells[i].input_prompt_number == nbb_cell_id) {\n",
       "                        if (nbb_cells[i].get_text() == nbb_unformatted_code) {\n",
       "                             nbb_cells[i].set_text(nbb_formatted_code);\n",
       "                        }\n",
       "                        break;\n",
       "                    }\n",
       "                }\n",
       "            }, 500);\n",
       "            "
      ],
      "text/plain": [
       "<IPython.core.display.Javascript object>"
      ]
     },
     "metadata": {},
     "output_type": "display_data"
    }
   ],
   "source": [
    "doc = pln(\"encontrei encontraram encontrarão encontrariam \")\n",
    "[token.lemma_ for token in doc]"
   ]
  },
  {
   "cell_type": "code",
   "execution_count": 15,
   "metadata": {},
   "outputs": [
    {
     "name": "stdout",
     "output_type": "stream",
     "text": [
      "Defaulting to user installation because normal site-packages is not writeable\n",
      "Requirement already up-to-date: nltk in /home/jonatas/.local/lib/python3.8/site-packages (3.5)\n",
      "Requirement already satisfied, skipping upgrade: tqdm in /home/jonatas/.local/lib/python3.8/site-packages (from nltk) (4.48.2)\n",
      "Requirement already satisfied, skipping upgrade: regex in /home/jonatas/.local/lib/python3.8/site-packages (from nltk) (2020.7.14)\n",
      "Requirement already satisfied, skipping upgrade: joblib in /home/jonatas/.local/lib/python3.8/site-packages (from nltk) (0.16.0)\n",
      "Requirement already satisfied, skipping upgrade: click in /home/jonatas/.local/lib/python3.8/site-packages (from nltk) (7.1.2)\n"
     ]
    },
    {
     "data": {
      "application/javascript": [
       "\n",
       "            setTimeout(function() {\n",
       "                var nbb_cell_id = 15;\n",
       "                var nbb_unformatted_code = \"!python3.8 -m pip install nltk --upgrade\";\n",
       "                var nbb_formatted_code = \"!python3.8 -m pip install nltk --upgrade\";\n",
       "                var nbb_cells = Jupyter.notebook.get_cells();\n",
       "                for (var i = 0; i < nbb_cells.length; ++i) {\n",
       "                    if (nbb_cells[i].input_prompt_number == nbb_cell_id) {\n",
       "                        if (nbb_cells[i].get_text() == nbb_unformatted_code) {\n",
       "                             nbb_cells[i].set_text(nbb_formatted_code);\n",
       "                        }\n",
       "                        break;\n",
       "                    }\n",
       "                }\n",
       "            }, 500);\n",
       "            "
      ],
      "text/plain": [
       "<IPython.core.display.Javascript object>"
      ]
     },
     "metadata": {},
     "output_type": "display_data"
    }
   ],
   "source": [
    "!python3.8 -m pip install nltk --upgrade"
   ]
  },
  {
   "cell_type": "code",
   "execution_count": 17,
   "metadata": {},
   "outputs": [
    {
     "name": "stderr",
     "output_type": "stream",
     "text": [
      "[nltk_data] Downloading package rslp to /home/jonatas/nltk_data...\n",
      "[nltk_data]   Package rslp is already up-to-date!\n"
     ]
    },
    {
     "data": {
      "text/plain": [
       "True"
      ]
     },
     "execution_count": 17,
     "metadata": {},
     "output_type": "execute_result"
    },
    {
     "data": {
      "application/javascript": [
       "\n",
       "            setTimeout(function() {\n",
       "                var nbb_cell_id = 17;\n",
       "                var nbb_unformatted_code = \"import nltk\\nnltk.download('rslp')\";\n",
       "                var nbb_formatted_code = \"import nltk\\n\\nnltk.download(\\\"rslp\\\")\";\n",
       "                var nbb_cells = Jupyter.notebook.get_cells();\n",
       "                for (var i = 0; i < nbb_cells.length; ++i) {\n",
       "                    if (nbb_cells[i].input_prompt_number == nbb_cell_id) {\n",
       "                        if (nbb_cells[i].get_text() == nbb_unformatted_code) {\n",
       "                             nbb_cells[i].set_text(nbb_formatted_code);\n",
       "                        }\n",
       "                        break;\n",
       "                    }\n",
       "                }\n",
       "            }, 500);\n",
       "            "
      ],
      "text/plain": [
       "<IPython.core.display.Javascript object>"
      ]
     },
     "metadata": {},
     "output_type": "display_data"
    }
   ],
   "source": [
    "import nltk\n",
    "\n",
    "nltk.download(\"rslp\")"
   ]
  },
  {
   "cell_type": "code",
   "execution_count": 18,
   "metadata": {},
   "outputs": [
    {
     "data": {
      "text/plain": [
       "'aprend'"
      ]
     },
     "execution_count": 18,
     "metadata": {},
     "output_type": "execute_result"
    },
    {
     "data": {
      "application/javascript": [
       "\n",
       "            setTimeout(function() {\n",
       "                var nbb_cell_id = 18;\n",
       "                var nbb_unformatted_code = \"stemmer = nltk.stem.RSLPStemmer()\\nstemmer.stem('aprendendo')\";\n",
       "                var nbb_formatted_code = \"stemmer = nltk.stem.RSLPStemmer()\\nstemmer.stem(\\\"aprendendo\\\")\";\n",
       "                var nbb_cells = Jupyter.notebook.get_cells();\n",
       "                for (var i = 0; i < nbb_cells.length; ++i) {\n",
       "                    if (nbb_cells[i].input_prompt_number == nbb_cell_id) {\n",
       "                        if (nbb_cells[i].get_text() == nbb_unformatted_code) {\n",
       "                             nbb_cells[i].set_text(nbb_formatted_code);\n",
       "                        }\n",
       "                        break;\n",
       "                    }\n",
       "                }\n",
       "            }, 500);\n",
       "            "
      ],
      "text/plain": [
       "<IPython.core.display.Javascript object>"
      ]
     },
     "metadata": {},
     "output_type": "display_data"
    }
   ],
   "source": [
    "stemmer = nltk.stem.RSLPStemmer()\n",
    "stemmer.stem(\"aprendendo\")"
   ]
  },
  {
   "cell_type": "markdown",
   "metadata": {},
   "source": [
    "https://www.sketchengine.eu/corpus-brasileiro/#toggle-id-2-closed "
   ]
  },
  {
   "cell_type": "code",
   "execution_count": 20,
   "metadata": {},
   "outputs": [
    {
     "data": {
      "application/javascript": [
       "\n",
       "            setTimeout(function() {\n",
       "                var nbb_cell_id = 20;\n",
       "                var nbb_unformatted_code = \"texto = 'A IBM \\u00e9 uma empresa dos Estados Unidos voltada para a \\u00e1rea de inform\\u00e1tica. Sua sede no Brasil fica em S\\u00e3o Paulo e a receita em 2018 foi de aproximadamente 320 bilh\\u00f5es de reais'\";\n",
       "                var nbb_formatted_code = \"texto = \\\"A IBM \\u00e9 uma empresa dos Estados Unidos voltada para a \\u00e1rea de inform\\u00e1tica. Sua sede no Brasil fica em S\\u00e3o Paulo e a receita em 2018 foi de aproximadamente 320 bilh\\u00f5es de reais\\\"\";\n",
       "                var nbb_cells = Jupyter.notebook.get_cells();\n",
       "                for (var i = 0; i < nbb_cells.length; ++i) {\n",
       "                    if (nbb_cells[i].input_prompt_number == nbb_cell_id) {\n",
       "                        if (nbb_cells[i].get_text() == nbb_unformatted_code) {\n",
       "                             nbb_cells[i].set_text(nbb_formatted_code);\n",
       "                        }\n",
       "                        break;\n",
       "                    }\n",
       "                }\n",
       "            }, 500);\n",
       "            "
      ],
      "text/plain": [
       "<IPython.core.display.Javascript object>"
      ]
     },
     "metadata": {},
     "output_type": "display_data"
    }
   ],
   "source": [
    "texto = \"A IBM é uma empresa dos Estados Unidos voltada para a área de informática. Sua sede no Brasil fica em São Paulo e a receita em 2018 foi de aproximadamente 320 bilhões de reais\""
   ]
  },
  {
   "cell_type": "code",
   "execution_count": 21,
   "metadata": {},
   "outputs": [
    {
     "name": "stdout",
     "output_type": "stream",
     "text": [
      "IBM ORG\n",
      "Estados Unidos LOC\n",
      "Brasil LOC\n",
      "São Paulo LOC\n"
     ]
    },
    {
     "data": {
      "application/javascript": [
       "\n",
       "            setTimeout(function() {\n",
       "                var nbb_cell_id = 21;\n",
       "                var nbb_unformatted_code = \"documento = pln(texto)\\nfor entidade in documento.ents:\\n    print(entidade.text, entidade.label_)\";\n",
       "                var nbb_formatted_code = \"documento = pln(texto)\\nfor entidade in documento.ents:\\n    print(entidade.text, entidade.label_)\";\n",
       "                var nbb_cells = Jupyter.notebook.get_cells();\n",
       "                for (var i = 0; i < nbb_cells.length; ++i) {\n",
       "                    if (nbb_cells[i].input_prompt_number == nbb_cell_id) {\n",
       "                        if (nbb_cells[i].get_text() == nbb_unformatted_code) {\n",
       "                             nbb_cells[i].set_text(nbb_formatted_code);\n",
       "                        }\n",
       "                        break;\n",
       "                    }\n",
       "                }\n",
       "            }, 500);\n",
       "            "
      ],
      "text/plain": [
       "<IPython.core.display.Javascript object>"
      ]
     },
     "metadata": {},
     "output_type": "display_data"
    }
   ],
   "source": [
    "documento = pln(texto)\n",
    "for entidade in documento.ents:\n",
    "    print(entidade.text, entidade.label_)"
   ]
  },
  {
   "cell_type": "code",
   "execution_count": 22,
   "metadata": {},
   "outputs": [
    {
     "data": {
      "text/html": [
       "<span class=\"tex2jax_ignore\"><div class=\"entities\" style=\"line-height: 2.5; direction: ltr\">A \n",
       "<mark class=\"entity\" style=\"background: #7aecec; padding: 0.45em 0.6em; margin: 0 0.25em; line-height: 1; border-radius: 0.35em;\">\n",
       "    IBM\n",
       "    <span style=\"font-size: 0.8em; font-weight: bold; line-height: 1; border-radius: 0.35em; text-transform: uppercase; vertical-align: middle; margin-left: 0.5rem\">ORG</span>\n",
       "</mark>\n",
       " é uma empresa dos \n",
       "<mark class=\"entity\" style=\"background: #ff9561; padding: 0.45em 0.6em; margin: 0 0.25em; line-height: 1; border-radius: 0.35em;\">\n",
       "    Estados Unidos\n",
       "    <span style=\"font-size: 0.8em; font-weight: bold; line-height: 1; border-radius: 0.35em; text-transform: uppercase; vertical-align: middle; margin-left: 0.5rem\">LOC</span>\n",
       "</mark>\n",
       " voltada para a área de informática. Sua sede no \n",
       "<mark class=\"entity\" style=\"background: #ff9561; padding: 0.45em 0.6em; margin: 0 0.25em; line-height: 1; border-radius: 0.35em;\">\n",
       "    Brasil\n",
       "    <span style=\"font-size: 0.8em; font-weight: bold; line-height: 1; border-radius: 0.35em; text-transform: uppercase; vertical-align: middle; margin-left: 0.5rem\">LOC</span>\n",
       "</mark>\n",
       " fica em \n",
       "<mark class=\"entity\" style=\"background: #ff9561; padding: 0.45em 0.6em; margin: 0 0.25em; line-height: 1; border-radius: 0.35em;\">\n",
       "    São Paulo\n",
       "    <span style=\"font-size: 0.8em; font-weight: bold; line-height: 1; border-radius: 0.35em; text-transform: uppercase; vertical-align: middle; margin-left: 0.5rem\">LOC</span>\n",
       "</mark>\n",
       " e a receita em 2018 foi de aproximadamente 320 bilhões de reais</div></span>"
      ],
      "text/plain": [
       "<IPython.core.display.HTML object>"
      ]
     },
     "metadata": {},
     "output_type": "display_data"
    },
    {
     "data": {
      "application/javascript": [
       "\n",
       "            setTimeout(function() {\n",
       "                var nbb_cell_id = 22;\n",
       "                var nbb_unformatted_code = \"from spacy import displacy\\ndisplacy.render(documento,style='ent',jupyter=True)\";\n",
       "                var nbb_formatted_code = \"from spacy import displacy\\n\\ndisplacy.render(documento, style=\\\"ent\\\", jupyter=True)\";\n",
       "                var nbb_cells = Jupyter.notebook.get_cells();\n",
       "                for (var i = 0; i < nbb_cells.length; ++i) {\n",
       "                    if (nbb_cells[i].input_prompt_number == nbb_cell_id) {\n",
       "                        if (nbb_cells[i].get_text() == nbb_unformatted_code) {\n",
       "                             nbb_cells[i].set_text(nbb_formatted_code);\n",
       "                        }\n",
       "                        break;\n",
       "                    }\n",
       "                }\n",
       "            }, 500);\n",
       "            "
      ],
      "text/plain": [
       "<IPython.core.display.Javascript object>"
      ]
     },
     "metadata": {},
     "output_type": "display_data"
    }
   ],
   "source": [
    "from spacy import displacy\n",
    "\n",
    "displacy.render(documento, style=\"ent\", jupyter=True)"
   ]
  },
  {
   "cell_type": "code",
   "execution_count": 25,
   "metadata": {},
   "outputs": [
    {
     "name": "stdout",
     "output_type": "stream",
     "text": [
      "{'quê', 'sobre', 'poder', 'quer', 'logo', 'vos', 'nível', 'aqui', 'tentei', 'conhecida', 'nove', 'ora', 'esteve', 'fazes', 'também', 'quarto', 'quinze', 'tivestes', 'entre', 'terceiro', 'contudo', 'tens', 'coisa', 'somente', 'quieto', 'cento', 'vez', 'ao', 'vossas', 'através', 'sob', 'doze', 'não', 'bem', 'for', 'sou', 'fostes', 'nesse', 'põem', 'vens', 'treze', 'dez', 'esta', 'deverá', 'ver', 'estava', 'esse', 'oitavo', 'podia', 'tu', 'cedo', 'fora', 'conselho', 'mês', 'cujo', 'geral', 'fazer', 'nos', 'és', 'primeira', 'pegar', 'próxima', 'estas', 'menor', 'te', 'pode', 'pela', 'no', 'nas', 'próprio', 'poderá', 'nova', 'à', 'minhas', 'quem', 'tarde', 'quatro', 'estou', 'fui', 'das', 'cima', 'deve', 'pontos', 'des', 'vosso', 'seus', 'dessa', 'máximo', 'perto', 'mil', 'num', 'estivemos', 'com', 'menos', 'bastante', 'porque', 'suas', 'tiveram', 'conhecido', 'estiveram', 'os', 'maior', 'local', 'pois', 'mesmo', 'primeiro', 'ou', 'ambos', 'daquele', 'baixo', 'numa', 'sabe', 'obrigada', 'grupo', 'relação', 'segundo', 'quinto', 'nenhuma', 'usa', 'ali', 'valor', 'de', 'tentaram', 'tais', 'tiveste', 'quinta', 'desde', 'números', 'um', 'quais', 'umas', 'nunca', 'sim', 'teu', 'aí', 'demais', 'vêm', 'meio', 'é', 'vem', 'tipo', 'são', 'vais', 'quando', 'sete', 'tua', 'onze', 'que', 'longe', 'caminho', 'fazeis', 'somos', 'teus', 'pôde', 'sexto', 'tive', 'ele', 'posição', 'porquê', 'exemplo', 'adeus', 'tenho', 'certeza', 'dão', 'talvez', 'tudo', 'estes', 'outra', 'sistema', 'ainda', 'parte', 'lugar', 'povo', 'ela', 'questão', 'nossos', 'sempre', 'vossos', 'elas', 'até', 'ser', 'lá', 'além', 'onde', 'aquelas', 'fará', 'porém', 'este', 'da', 'nesta', 'minha', 'pouco', 'depois', 'nós', 'vinte', 'estive', 'tem', 'possivelmente', 'quieta', 'dentro', 'três', 'eles', 'vários', 'lado', 'debaixo', 'essas', 'zero', 'tente', 'dezassete', 'alguns', 'inclusive', 'estar', 'está', 'atrás', 'como', 'diz', 'ter', 'aos', 'daquela', 'apoia', 'se', 'deste', 'fazem', 'direita', 'fazemos', 'tendes', 'vão', 'grande', 'dezasseis', 'nossas', 'por', 'algo', 'todas', 'uma', 'você', 'saber', 'as', 'algumas', 'então', 'eventual', 'cuja', 'faço', 'boa', 'fomos', 'oitava', 'me', 'põe', 'tanto', 'todos', 'nuns', 'obrigado', 'novo', 'ontem', 'vocês', 'sois', 'aqueles', 'seria', 'assim', 'terceira', 'neste', 'podem', 'dezoito', 'partir', 'diante', 'para', 'dois', 'pelo', 'apoio', 'bom', 'quarta', 'breve', 'estiveste', 'maiorias', 'contra', 'têm', 'outras', 'portanto', 'vezes', 'dizer', 'mas', 'fim', 'antes', 'qual', 'possível', 'foi', 'vinda', 'próximo', 'ambas', 'quanto', 'foste', 'tentar', 'desta', 'fazia', 'tão', 'estás', 'agora', 'dar', 'fez', 'acerca', 'em', 'aquilo', 'foram', 'mais', 'estará', 'ligado', 'estão', 'nada', 'ponto', 'grandes', 'isso', 'aquela', 'favor', 'forma', 'outros', 'seis', 'dá', 'tanta', 'irá', 'porquanto', 'já', 'teve', 'comprida', 'iniciar', 'número', 'na', 'nessa', 'segunda', 'nossa', 'esses', 'isto', 'seu', 'momento', 'novas', 'dos', 'maioria', 'parece', 'pouca', 'último', 'falta', 'faz', 'meses', 'inicio', 'sexta', 'disso', 'às', 'meus', 'cá', 'comprido', 'mal', 'cinco', 'final', 'tivemos', 'naquela', 'tal', 'uns', 'cada', 'naquele', 'qualquer', 'oito', 'área', 'tempo', 'usar', 'ademais', 'enquanto', 'aquele', 'apenas', 'essa', 'ir', 'sem', 'sua', 'certamente', 'desse', 'puderam', 'veja', 'toda', 'era', 'vai', 'pelas', 'nosso', 'dizem', 'do', 'muito', 'nem', 'muitos', 'embora', 'tuas', 'querem', 'sétimo', 'posso', 'dezanove', 'após', 'custa', 'temos', 'duas', 'pelos', 'meu', 'corrente', 'eu', 'vindo', 'lhe', 'só', 'todo', 'estado', 'novos', 'catorze', 'apontar', 'vossa', 'estivestes', 'sei', 'sétima', 'vós', 'quero', 'devem'}\n"
     ]
    },
    {
     "data": {
      "application/javascript": [
       "\n",
       "            setTimeout(function() {\n",
       "                var nbb_cell_id = 25;\n",
       "                var nbb_unformatted_code = \"from spacy.lang.pt.stop_words import STOP_WORDS\\n\\nprint(STOP_WORDS)\";\n",
       "                var nbb_formatted_code = \"from spacy.lang.pt.stop_words import STOP_WORDS\\n\\nprint(STOP_WORDS)\";\n",
       "                var nbb_cells = Jupyter.notebook.get_cells();\n",
       "                for (var i = 0; i < nbb_cells.length; ++i) {\n",
       "                    if (nbb_cells[i].input_prompt_number == nbb_cell_id) {\n",
       "                        if (nbb_cells[i].get_text() == nbb_unformatted_code) {\n",
       "                             nbb_cells[i].set_text(nbb_formatted_code);\n",
       "                        }\n",
       "                        break;\n",
       "                    }\n",
       "                }\n",
       "            }, 500);\n",
       "            "
      ],
      "text/plain": [
       "<IPython.core.display.Javascript object>"
      ]
     },
     "metadata": {},
     "output_type": "display_data"
    }
   ],
   "source": [
    "from spacy.lang.pt.stop_words import STOP_WORDS\n",
    "\n",
    "print(STOP_WORDS)"
   ]
  },
  {
   "cell_type": "code",
   "execution_count": 26,
   "metadata": {},
   "outputs": [
    {
     "data": {
      "text/plain": [
       "True"
      ]
     },
     "execution_count": 26,
     "metadata": {},
     "output_type": "execute_result"
    },
    {
     "data": {
      "application/javascript": [
       "\n",
       "            setTimeout(function() {\n",
       "                var nbb_cell_id = 26;\n",
       "                var nbb_unformatted_code = \"pln.vocab['ir'].is_stop\";\n",
       "                var nbb_formatted_code = \"pln.vocab[\\\"ir\\\"].is_stop\";\n",
       "                var nbb_cells = Jupyter.notebook.get_cells();\n",
       "                for (var i = 0; i < nbb_cells.length; ++i) {\n",
       "                    if (nbb_cells[i].input_prompt_number == nbb_cell_id) {\n",
       "                        if (nbb_cells[i].get_text() == nbb_unformatted_code) {\n",
       "                             nbb_cells[i].set_text(nbb_formatted_code);\n",
       "                        }\n",
       "                        break;\n",
       "                    }\n",
       "                }\n",
       "            }, 500);\n",
       "            "
      ],
      "text/plain": [
       "<IPython.core.display.Javascript object>"
      ]
     },
     "metadata": {},
     "output_type": "display_data"
    }
   ],
   "source": [
    "pln.vocab[\"ir\"].is_stop"
   ]
  },
  {
   "cell_type": "code",
   "execution_count": 28,
   "metadata": {},
   "outputs": [
    {
     "data": {
      "text/plain": [
       "(Guarulhos, Curitiba)"
      ]
     },
     "execution_count": 28,
     "metadata": {},
     "output_type": "execute_result"
    },
    {
     "data": {
      "application/javascript": [
       "\n",
       "            setTimeout(function() {\n",
       "                var nbb_cell_id = 28;\n",
       "                var nbb_unformatted_code = \"documento = pln(\\\"reserve uma passagem saindo de Guarulhos e chegando em Curitiba\\\")\\norigem = documento[5]\\ndestino = documento[9]\\norigem, destino\";\n",
       "                var nbb_formatted_code = \"documento = pln(\\\"reserve uma passagem saindo de Guarulhos e chegando em Curitiba\\\")\\norigem = documento[5]\\ndestino = documento[9]\\norigem, destino\";\n",
       "                var nbb_cells = Jupyter.notebook.get_cells();\n",
       "                for (var i = 0; i < nbb_cells.length; ++i) {\n",
       "                    if (nbb_cells[i].input_prompt_number == nbb_cell_id) {\n",
       "                        if (nbb_cells[i].get_text() == nbb_unformatted_code) {\n",
       "                             nbb_cells[i].set_text(nbb_formatted_code);\n",
       "                        }\n",
       "                        break;\n",
       "                    }\n",
       "                }\n",
       "            }, 500);\n",
       "            "
      ],
      "text/plain": [
       "<IPython.core.display.Javascript object>"
      ]
     },
     "metadata": {},
     "output_type": "display_data"
    }
   ],
   "source": [
    "documento = pln(\"reserve uma passagem saindo de Guarulhos e chegando em Curitiba\")\n",
    "origem = documento[5]\n",
    "destino = documento[9]\n",
    "origem, destino"
   ]
  },
  {
   "cell_type": "code",
   "execution_count": 31,
   "metadata": {},
   "outputs": [
    {
     "name": "stdout",
     "output_type": "stream",
     "text": [
      "[saindo, passagem, reserve]\n",
      "[chegando, reserve]\n"
     ]
    },
    {
     "data": {
      "application/javascript": [
       "\n",
       "            setTimeout(function() {\n",
       "                var nbb_cell_id = 31;\n",
       "                var nbb_unformatted_code = \"print(list(origem.ancestors))\\nprint(list(destino.ancestors))\";\n",
       "                var nbb_formatted_code = \"print(list(origem.ancestors))\\nprint(list(destino.ancestors))\";\n",
       "                var nbb_cells = Jupyter.notebook.get_cells();\n",
       "                for (var i = 0; i < nbb_cells.length; ++i) {\n",
       "                    if (nbb_cells[i].input_prompt_number == nbb_cell_id) {\n",
       "                        if (nbb_cells[i].get_text() == nbb_unformatted_code) {\n",
       "                             nbb_cells[i].set_text(nbb_formatted_code);\n",
       "                        }\n",
       "                        break;\n",
       "                    }\n",
       "                }\n",
       "            }, 500);\n",
       "            "
      ],
      "text/plain": [
       "<IPython.core.display.Javascript object>"
      ]
     },
     "metadata": {},
     "output_type": "display_data"
    }
   ],
   "source": [
    "print(list(origem.ancestors))\n",
    "print(list(destino.ancestors))"
   ]
  },
  {
   "cell_type": "code",
   "execution_count": 33,
   "metadata": {},
   "outputs": [
    {
     "data": {
      "text/html": [
       "<span class=\"tex2jax_ignore\"><svg xmlns=\"http://www.w3.org/2000/svg\" xmlns:xlink=\"http://www.w3.org/1999/xlink\" xml:lang=\"pt\" id=\"7f85a4e83cd444a9b52f846e23541f25-0\" class=\"displacy\" width=\"1310\" height=\"317.0\" direction=\"ltr\" style=\"max-width: none; height: 317.0px; color: #000000; background: #ffffff; font-family: Arial; direction: ltr\">\n",
       "<text class=\"displacy-token\" fill=\"currentColor\" text-anchor=\"middle\" y=\"227.0\">\n",
       "    <tspan class=\"displacy-word\" fill=\"currentColor\" x=\"50\">Reserva</tspan>\n",
       "    <tspan class=\"displacy-tag\" dy=\"2em\" fill=\"currentColor\" x=\"50\">NOUN</tspan>\n",
       "</text>\n",
       "\n",
       "<text class=\"displacy-token\" fill=\"currentColor\" text-anchor=\"middle\" y=\"227.0\">\n",
       "    <tspan class=\"displacy-word\" fill=\"currentColor\" x=\"140\">de</tspan>\n",
       "    <tspan class=\"displacy-tag\" dy=\"2em\" fill=\"currentColor\" x=\"140\">ADP</tspan>\n",
       "</text>\n",
       "\n",
       "<text class=\"displacy-token\" fill=\"currentColor\" text-anchor=\"middle\" y=\"227.0\">\n",
       "    <tspan class=\"displacy-word\" fill=\"currentColor\" x=\"230\">uma</tspan>\n",
       "    <tspan class=\"displacy-tag\" dy=\"2em\" fill=\"currentColor\" x=\"230\">DET</tspan>\n",
       "</text>\n",
       "\n",
       "<text class=\"displacy-token\" fill=\"currentColor\" text-anchor=\"middle\" y=\"227.0\">\n",
       "    <tspan class=\"displacy-word\" fill=\"currentColor\" x=\"320\">mesa</tspan>\n",
       "    <tspan class=\"displacy-tag\" dy=\"2em\" fill=\"currentColor\" x=\"320\">NOUN</tspan>\n",
       "</text>\n",
       "\n",
       "<text class=\"displacy-token\" fill=\"currentColor\" text-anchor=\"middle\" y=\"227.0\">\n",
       "    <tspan class=\"displacy-word\" fill=\"currentColor\" x=\"410\">para</tspan>\n",
       "    <tspan class=\"displacy-tag\" dy=\"2em\" fill=\"currentColor\" x=\"410\">ADP</tspan>\n",
       "</text>\n",
       "\n",
       "<text class=\"displacy-token\" fill=\"currentColor\" text-anchor=\"middle\" y=\"227.0\">\n",
       "    <tspan class=\"displacy-word\" fill=\"currentColor\" x=\"500\">o</tspan>\n",
       "    <tspan class=\"displacy-tag\" dy=\"2em\" fill=\"currentColor\" x=\"500\">DET</tspan>\n",
       "</text>\n",
       "\n",
       "<text class=\"displacy-token\" fill=\"currentColor\" text-anchor=\"middle\" y=\"227.0\">\n",
       "    <tspan class=\"displacy-word\" fill=\"currentColor\" x=\"590\">restaurante</tspan>\n",
       "    <tspan class=\"displacy-tag\" dy=\"2em\" fill=\"currentColor\" x=\"590\">NOUN</tspan>\n",
       "</text>\n",
       "\n",
       "<text class=\"displacy-token\" fill=\"currentColor\" text-anchor=\"middle\" y=\"227.0\">\n",
       "    <tspan class=\"displacy-word\" fill=\"currentColor\" x=\"680\">e</tspan>\n",
       "    <tspan class=\"displacy-tag\" dy=\"2em\" fill=\"currentColor\" x=\"680\">CCONJ</tspan>\n",
       "</text>\n",
       "\n",
       "<text class=\"displacy-token\" fill=\"currentColor\" text-anchor=\"middle\" y=\"227.0\">\n",
       "    <tspan class=\"displacy-word\" fill=\"currentColor\" x=\"770\">de</tspan>\n",
       "    <tspan class=\"displacy-tag\" dy=\"2em\" fill=\"currentColor\" x=\"770\">ADP</tspan>\n",
       "</text>\n",
       "\n",
       "<text class=\"displacy-token\" fill=\"currentColor\" text-anchor=\"middle\" y=\"227.0\">\n",
       "    <tspan class=\"displacy-word\" fill=\"currentColor\" x=\"860\">um</tspan>\n",
       "    <tspan class=\"displacy-tag\" dy=\"2em\" fill=\"currentColor\" x=\"860\">DET</tspan>\n",
       "</text>\n",
       "\n",
       "<text class=\"displacy-token\" fill=\"currentColor\" text-anchor=\"middle\" y=\"227.0\">\n",
       "    <tspan class=\"displacy-word\" fill=\"currentColor\" x=\"950\">táxi</tspan>\n",
       "    <tspan class=\"displacy-tag\" dy=\"2em\" fill=\"currentColor\" x=\"950\">NOUN</tspan>\n",
       "</text>\n",
       "\n",
       "<text class=\"displacy-token\" fill=\"currentColor\" text-anchor=\"middle\" y=\"227.0\">\n",
       "    <tspan class=\"displacy-word\" fill=\"currentColor\" x=\"1040\">para</tspan>\n",
       "    <tspan class=\"displacy-tag\" dy=\"2em\" fill=\"currentColor\" x=\"1040\">ADP</tspan>\n",
       "</text>\n",
       "\n",
       "<text class=\"displacy-token\" fill=\"currentColor\" text-anchor=\"middle\" y=\"227.0\">\n",
       "    <tspan class=\"displacy-word\" fill=\"currentColor\" x=\"1130\">o</tspan>\n",
       "    <tspan class=\"displacy-tag\" dy=\"2em\" fill=\"currentColor\" x=\"1130\">DET</tspan>\n",
       "</text>\n",
       "\n",
       "<text class=\"displacy-token\" fill=\"currentColor\" text-anchor=\"middle\" y=\"227.0\">\n",
       "    <tspan class=\"displacy-word\" fill=\"currentColor\" x=\"1220\">hotel</tspan>\n",
       "    <tspan class=\"displacy-tag\" dy=\"2em\" fill=\"currentColor\" x=\"1220\">NOUN</tspan>\n",
       "</text>\n",
       "\n",
       "<g class=\"displacy-arrow\">\n",
       "    <path class=\"displacy-arc\" id=\"arrow-7f85a4e83cd444a9b52f846e23541f25-0-0\" stroke-width=\"2px\" d=\"M160,182.0 C160,92.0 310.0,92.0 310.0,182.0\" fill=\"none\" stroke=\"currentColor\"/>\n",
       "    <text dy=\"1.25em\" style=\"font-size: 0.8em; letter-spacing: 1px\">\n",
       "        <textPath xlink:href=\"#arrow-7f85a4e83cd444a9b52f846e23541f25-0-0\" class=\"displacy-label\" startOffset=\"50%\" side=\"left\" fill=\"currentColor\" text-anchor=\"middle\">case</textPath>\n",
       "    </text>\n",
       "    <path class=\"displacy-arrowhead\" d=\"M160,184.0 L152,172.0 168,172.0\" fill=\"currentColor\"/>\n",
       "</g>\n",
       "\n",
       "<g class=\"displacy-arrow\">\n",
       "    <path class=\"displacy-arc\" id=\"arrow-7f85a4e83cd444a9b52f846e23541f25-0-1\" stroke-width=\"2px\" d=\"M250,182.0 C250,137.0 305.0,137.0 305.0,182.0\" fill=\"none\" stroke=\"currentColor\"/>\n",
       "    <text dy=\"1.25em\" style=\"font-size: 0.8em; letter-spacing: 1px\">\n",
       "        <textPath xlink:href=\"#arrow-7f85a4e83cd444a9b52f846e23541f25-0-1\" class=\"displacy-label\" startOffset=\"50%\" side=\"left\" fill=\"currentColor\" text-anchor=\"middle\">det</textPath>\n",
       "    </text>\n",
       "    <path class=\"displacy-arrowhead\" d=\"M250,184.0 L242,172.0 258,172.0\" fill=\"currentColor\"/>\n",
       "</g>\n",
       "\n",
       "<g class=\"displacy-arrow\">\n",
       "    <path class=\"displacy-arc\" id=\"arrow-7f85a4e83cd444a9b52f846e23541f25-0-2\" stroke-width=\"2px\" d=\"M70,182.0 C70,47.0 315.0,47.0 315.0,182.0\" fill=\"none\" stroke=\"currentColor\"/>\n",
       "    <text dy=\"1.25em\" style=\"font-size: 0.8em; letter-spacing: 1px\">\n",
       "        <textPath xlink:href=\"#arrow-7f85a4e83cd444a9b52f846e23541f25-0-2\" class=\"displacy-label\" startOffset=\"50%\" side=\"left\" fill=\"currentColor\" text-anchor=\"middle\">nmod</textPath>\n",
       "    </text>\n",
       "    <path class=\"displacy-arrowhead\" d=\"M315.0,184.0 L323.0,172.0 307.0,172.0\" fill=\"currentColor\"/>\n",
       "</g>\n",
       "\n",
       "<g class=\"displacy-arrow\">\n",
       "    <path class=\"displacy-arc\" id=\"arrow-7f85a4e83cd444a9b52f846e23541f25-0-3\" stroke-width=\"2px\" d=\"M430,182.0 C430,92.0 580.0,92.0 580.0,182.0\" fill=\"none\" stroke=\"currentColor\"/>\n",
       "    <text dy=\"1.25em\" style=\"font-size: 0.8em; letter-spacing: 1px\">\n",
       "        <textPath xlink:href=\"#arrow-7f85a4e83cd444a9b52f846e23541f25-0-3\" class=\"displacy-label\" startOffset=\"50%\" side=\"left\" fill=\"currentColor\" text-anchor=\"middle\">case</textPath>\n",
       "    </text>\n",
       "    <path class=\"displacy-arrowhead\" d=\"M430,184.0 L422,172.0 438,172.0\" fill=\"currentColor\"/>\n",
       "</g>\n",
       "\n",
       "<g class=\"displacy-arrow\">\n",
       "    <path class=\"displacy-arc\" id=\"arrow-7f85a4e83cd444a9b52f846e23541f25-0-4\" stroke-width=\"2px\" d=\"M520,182.0 C520,137.0 575.0,137.0 575.0,182.0\" fill=\"none\" stroke=\"currentColor\"/>\n",
       "    <text dy=\"1.25em\" style=\"font-size: 0.8em; letter-spacing: 1px\">\n",
       "        <textPath xlink:href=\"#arrow-7f85a4e83cd444a9b52f846e23541f25-0-4\" class=\"displacy-label\" startOffset=\"50%\" side=\"left\" fill=\"currentColor\" text-anchor=\"middle\">det</textPath>\n",
       "    </text>\n",
       "    <path class=\"displacy-arrowhead\" d=\"M520,184.0 L512,172.0 528,172.0\" fill=\"currentColor\"/>\n",
       "</g>\n",
       "\n",
       "<g class=\"displacy-arrow\">\n",
       "    <path class=\"displacy-arc\" id=\"arrow-7f85a4e83cd444a9b52f846e23541f25-0-5\" stroke-width=\"2px\" d=\"M340,182.0 C340,47.0 585.0,47.0 585.0,182.0\" fill=\"none\" stroke=\"currentColor\"/>\n",
       "    <text dy=\"1.25em\" style=\"font-size: 0.8em; letter-spacing: 1px\">\n",
       "        <textPath xlink:href=\"#arrow-7f85a4e83cd444a9b52f846e23541f25-0-5\" class=\"displacy-label\" startOffset=\"50%\" side=\"left\" fill=\"currentColor\" text-anchor=\"middle\">nmod</textPath>\n",
       "    </text>\n",
       "    <path class=\"displacy-arrowhead\" d=\"M585.0,184.0 L593.0,172.0 577.0,172.0\" fill=\"currentColor\"/>\n",
       "</g>\n",
       "\n",
       "<g class=\"displacy-arrow\">\n",
       "    <path class=\"displacy-arc\" id=\"arrow-7f85a4e83cd444a9b52f846e23541f25-0-6\" stroke-width=\"2px\" d=\"M700,182.0 C700,47.0 945.0,47.0 945.0,182.0\" fill=\"none\" stroke=\"currentColor\"/>\n",
       "    <text dy=\"1.25em\" style=\"font-size: 0.8em; letter-spacing: 1px\">\n",
       "        <textPath xlink:href=\"#arrow-7f85a4e83cd444a9b52f846e23541f25-0-6\" class=\"displacy-label\" startOffset=\"50%\" side=\"left\" fill=\"currentColor\" text-anchor=\"middle\">cc</textPath>\n",
       "    </text>\n",
       "    <path class=\"displacy-arrowhead\" d=\"M700,184.0 L692,172.0 708,172.0\" fill=\"currentColor\"/>\n",
       "</g>\n",
       "\n",
       "<g class=\"displacy-arrow\">\n",
       "    <path class=\"displacy-arc\" id=\"arrow-7f85a4e83cd444a9b52f846e23541f25-0-7\" stroke-width=\"2px\" d=\"M790,182.0 C790,92.0 940.0,92.0 940.0,182.0\" fill=\"none\" stroke=\"currentColor\"/>\n",
       "    <text dy=\"1.25em\" style=\"font-size: 0.8em; letter-spacing: 1px\">\n",
       "        <textPath xlink:href=\"#arrow-7f85a4e83cd444a9b52f846e23541f25-0-7\" class=\"displacy-label\" startOffset=\"50%\" side=\"left\" fill=\"currentColor\" text-anchor=\"middle\">case</textPath>\n",
       "    </text>\n",
       "    <path class=\"displacy-arrowhead\" d=\"M790,184.0 L782,172.0 798,172.0\" fill=\"currentColor\"/>\n",
       "</g>\n",
       "\n",
       "<g class=\"displacy-arrow\">\n",
       "    <path class=\"displacy-arc\" id=\"arrow-7f85a4e83cd444a9b52f846e23541f25-0-8\" stroke-width=\"2px\" d=\"M880,182.0 C880,137.0 935.0,137.0 935.0,182.0\" fill=\"none\" stroke=\"currentColor\"/>\n",
       "    <text dy=\"1.25em\" style=\"font-size: 0.8em; letter-spacing: 1px\">\n",
       "        <textPath xlink:href=\"#arrow-7f85a4e83cd444a9b52f846e23541f25-0-8\" class=\"displacy-label\" startOffset=\"50%\" side=\"left\" fill=\"currentColor\" text-anchor=\"middle\">det</textPath>\n",
       "    </text>\n",
       "    <path class=\"displacy-arrowhead\" d=\"M880,184.0 L872,172.0 888,172.0\" fill=\"currentColor\"/>\n",
       "</g>\n",
       "\n",
       "<g class=\"displacy-arrow\">\n",
       "    <path class=\"displacy-arc\" id=\"arrow-7f85a4e83cd444a9b52f846e23541f25-0-9\" stroke-width=\"2px\" d=\"M610,182.0 C610,2.0 950.0,2.0 950.0,182.0\" fill=\"none\" stroke=\"currentColor\"/>\n",
       "    <text dy=\"1.25em\" style=\"font-size: 0.8em; letter-spacing: 1px\">\n",
       "        <textPath xlink:href=\"#arrow-7f85a4e83cd444a9b52f846e23541f25-0-9\" class=\"displacy-label\" startOffset=\"50%\" side=\"left\" fill=\"currentColor\" text-anchor=\"middle\">conj</textPath>\n",
       "    </text>\n",
       "    <path class=\"displacy-arrowhead\" d=\"M950.0,184.0 L958.0,172.0 942.0,172.0\" fill=\"currentColor\"/>\n",
       "</g>\n",
       "\n",
       "<g class=\"displacy-arrow\">\n",
       "    <path class=\"displacy-arc\" id=\"arrow-7f85a4e83cd444a9b52f846e23541f25-0-10\" stroke-width=\"2px\" d=\"M1060,182.0 C1060,92.0 1210.0,92.0 1210.0,182.0\" fill=\"none\" stroke=\"currentColor\"/>\n",
       "    <text dy=\"1.25em\" style=\"font-size: 0.8em; letter-spacing: 1px\">\n",
       "        <textPath xlink:href=\"#arrow-7f85a4e83cd444a9b52f846e23541f25-0-10\" class=\"displacy-label\" startOffset=\"50%\" side=\"left\" fill=\"currentColor\" text-anchor=\"middle\">case</textPath>\n",
       "    </text>\n",
       "    <path class=\"displacy-arrowhead\" d=\"M1060,184.0 L1052,172.0 1068,172.0\" fill=\"currentColor\"/>\n",
       "</g>\n",
       "\n",
       "<g class=\"displacy-arrow\">\n",
       "    <path class=\"displacy-arc\" id=\"arrow-7f85a4e83cd444a9b52f846e23541f25-0-11\" stroke-width=\"2px\" d=\"M1150,182.0 C1150,137.0 1205.0,137.0 1205.0,182.0\" fill=\"none\" stroke=\"currentColor\"/>\n",
       "    <text dy=\"1.25em\" style=\"font-size: 0.8em; letter-spacing: 1px\">\n",
       "        <textPath xlink:href=\"#arrow-7f85a4e83cd444a9b52f846e23541f25-0-11\" class=\"displacy-label\" startOffset=\"50%\" side=\"left\" fill=\"currentColor\" text-anchor=\"middle\">det</textPath>\n",
       "    </text>\n",
       "    <path class=\"displacy-arrowhead\" d=\"M1150,184.0 L1142,172.0 1158,172.0\" fill=\"currentColor\"/>\n",
       "</g>\n",
       "\n",
       "<g class=\"displacy-arrow\">\n",
       "    <path class=\"displacy-arc\" id=\"arrow-7f85a4e83cd444a9b52f846e23541f25-0-12\" stroke-width=\"2px\" d=\"M970,182.0 C970,47.0 1215.0,47.0 1215.0,182.0\" fill=\"none\" stroke=\"currentColor\"/>\n",
       "    <text dy=\"1.25em\" style=\"font-size: 0.8em; letter-spacing: 1px\">\n",
       "        <textPath xlink:href=\"#arrow-7f85a4e83cd444a9b52f846e23541f25-0-12\" class=\"displacy-label\" startOffset=\"50%\" side=\"left\" fill=\"currentColor\" text-anchor=\"middle\">nmod</textPath>\n",
       "    </text>\n",
       "    <path class=\"displacy-arrowhead\" d=\"M1215.0,184.0 L1223.0,172.0 1207.0,172.0\" fill=\"currentColor\"/>\n",
       "</g>\n",
       "</svg></span>"
      ],
      "text/plain": [
       "<IPython.core.display.HTML object>"
      ]
     },
     "metadata": {},
     "output_type": "display_data"
    },
    {
     "data": {
      "application/javascript": [
       "\n",
       "            setTimeout(function() {\n",
       "                var nbb_cell_id = 33;\n",
       "                var nbb_unformatted_code = \"documento = pln('Reserva de uma mesa para o restaurante e de um t\\u00e1xi para o hotel')\\ndisplacy.render(documento, style=\\\"dep\\\", jupyter=True, options={\\\"distance\\\": 90})\";\n",
       "                var nbb_formatted_code = \"documento = pln(\\\"Reserva de uma mesa para o restaurante e de um t\\u00e1xi para o hotel\\\")\\ndisplacy.render(documento, style=\\\"dep\\\", jupyter=True, options={\\\"distance\\\": 90})\";\n",
       "                var nbb_cells = Jupyter.notebook.get_cells();\n",
       "                for (var i = 0; i < nbb_cells.length; ++i) {\n",
       "                    if (nbb_cells[i].input_prompt_number == nbb_cell_id) {\n",
       "                        if (nbb_cells[i].get_text() == nbb_unformatted_code) {\n",
       "                             nbb_cells[i].set_text(nbb_formatted_code);\n",
       "                        }\n",
       "                        break;\n",
       "                    }\n",
       "                }\n",
       "            }, 500);\n",
       "            "
      ],
      "text/plain": [
       "<IPython.core.display.Javascript object>"
      ]
     },
     "metadata": {},
     "output_type": "display_data"
    }
   ],
   "source": [
    "documento = pln(\"Reserva de uma mesa para o restaurante e de um táxi para o hotel\")\n",
    "displacy.render(documento, style=\"dep\", jupyter=True, options={\"distance\": 90})"
   ]
  },
  {
   "cell_type": "markdown",
   "metadata": {},
   "source": [
    "# Semelhanças entre palavras e frases\n",
    "\n",
    "- Verificar se duas palavras são semelhantes ou logicamente relacionadas\n",
    "- Usa o algoritmo GloVe (Global Vectors for Word Representation)\n",
    "- Artigo original: https://nlp.stanford.edu/pubs/glove.pdf"
   ]
  },
  {
   "cell_type": "code",
   "execution_count": 44,
   "metadata": {},
   "outputs": [
    {
     "name": "stdout",
     "output_type": "stream",
     "text": [
      "olá --> oi | 80.79% | 0.8078887901849083\n",
      "oi --> olá | 80.79% | 0.8078887901849083\n",
      "olá --> ou | -4.32% | -0.043166430477775866\n",
      "oi --> ou | -4.03% | -0.04030131968202504\n"
     ]
    },
    {
     "data": {
      "application/javascript": [
       "\n",
       "            setTimeout(function() {\n",
       "                var nbb_cell_id = 44;\n",
       "                var nbb_unformatted_code = \"pln = spacy.load(\\\"pt_core_news_lg\\\")\\np1 = pln(\\\"ol\\u00e1\\\")\\np2 = pln(\\\"oi\\\")\\np3 = pln(\\\"ou\\\")\\nprint(\\n    \\\"ol\\u00e1 --> oi\\\",\\n    \\\"|\\\",\\n    str(round(p1.similarity(p2) * 100, 2)) + \\\"%\\\",\\n    \\\"|\\\",\\n    p1.similarity(p2),\\n)\\nprint(\\n    \\\"oi --> ol\\u00e1\\\",\\n    \\\"|\\\",\\n    str(round(p2.similarity(p1) * 100, 2)) + \\\"%\\\",\\n    \\\"|\\\",\\n    p2.similarity(p1),\\n)\\nprint(\\n    \\\"ol\\u00e1 --> ou\\\",\\n    \\\"|\\\",\\n    str(round(p1.similarity(p3) * 100, 2)) + \\\"%\\\",\\n    \\\"|\\\",\\n    p1.similarity(p3),\\n)\\nprint(\\n    \\\"oi --> ou\\\",\\n    \\\"|\\\",\\n    str(round(p2.similarity(p3) * 100, 2)) + \\\"%\\\",\\n    \\\"|\\\",\\n    p2.similarity(p3),\\n)\";\n",
       "                var nbb_formatted_code = \"pln = spacy.load(\\\"pt_core_news_lg\\\")\\np1 = pln(\\\"ol\\u00e1\\\")\\np2 = pln(\\\"oi\\\")\\np3 = pln(\\\"ou\\\")\\nprint(\\n    \\\"ol\\u00e1 --> oi\\\",\\n    \\\"|\\\",\\n    str(round(p1.similarity(p2) * 100, 2)) + \\\"%\\\",\\n    \\\"|\\\",\\n    p1.similarity(p2),\\n)\\nprint(\\n    \\\"oi --> ol\\u00e1\\\",\\n    \\\"|\\\",\\n    str(round(p2.similarity(p1) * 100, 2)) + \\\"%\\\",\\n    \\\"|\\\",\\n    p2.similarity(p1),\\n)\\nprint(\\n    \\\"ol\\u00e1 --> ou\\\",\\n    \\\"|\\\",\\n    str(round(p1.similarity(p3) * 100, 2)) + \\\"%\\\",\\n    \\\"|\\\",\\n    p1.similarity(p3),\\n)\\nprint(\\n    \\\"oi --> ou\\\",\\n    \\\"|\\\",\\n    str(round(p2.similarity(p3) * 100, 2)) + \\\"%\\\",\\n    \\\"|\\\",\\n    p2.similarity(p3),\\n)\";\n",
       "                var nbb_cells = Jupyter.notebook.get_cells();\n",
       "                for (var i = 0; i < nbb_cells.length; ++i) {\n",
       "                    if (nbb_cells[i].input_prompt_number == nbb_cell_id) {\n",
       "                        if (nbb_cells[i].get_text() == nbb_unformatted_code) {\n",
       "                             nbb_cells[i].set_text(nbb_formatted_code);\n",
       "                        }\n",
       "                        break;\n",
       "                    }\n",
       "                }\n",
       "            }, 500);\n",
       "            "
      ],
      "text/plain": [
       "<IPython.core.display.Javascript object>"
      ]
     },
     "metadata": {},
     "output_type": "display_data"
    }
   ],
   "source": [
    "pln = spacy.load(\"pt_core_news_lg\")\n",
    "p1 = pln(\"olá\")\n",
    "p2 = pln(\"oi\")\n",
    "p3 = pln(\"ou\")\n",
    "print(\n",
    "    \"olá --> oi\",\n",
    "    \"|\",\n",
    "    str(round(p1.similarity(p2) * 100, 2)) + \"%\",\n",
    "    \"|\",\n",
    "    p1.similarity(p2),\n",
    ")\n",
    "print(\n",
    "    \"oi --> olá\",\n",
    "    \"|\",\n",
    "    str(round(p2.similarity(p1) * 100, 2)) + \"%\",\n",
    "    \"|\",\n",
    "    p2.similarity(p1),\n",
    ")\n",
    "print(\n",
    "    \"olá --> ou\",\n",
    "    \"|\",\n",
    "    str(round(p1.similarity(p3) * 100, 2)) + \"%\",\n",
    "    \"|\",\n",
    "    p1.similarity(p3),\n",
    ")\n",
    "print(\n",
    "    \"oi --> ou\",\n",
    "    \"|\",\n",
    "    str(round(p2.similarity(p3) * 100, 2)) + \"%\",\n",
    "    \"|\",\n",
    "    p2.similarity(p3),\n",
    ")"
   ]
  },
  {
   "cell_type": "code",
   "execution_count": 39,
   "metadata": {},
   "outputs": [
    {
     "name": "stdout",
     "output_type": "stream",
     "text": [
      "0.7609562838865372\n",
      "0.7609562838865372\n",
      "0.4543541666785875\n",
      "0.1818940831238732\n"
     ]
    },
    {
     "data": {
      "application/javascript": [
       "\n",
       "            setTimeout(function() {\n",
       "                var nbb_cell_id = 39;\n",
       "                var nbb_unformatted_code = \"texto1 = pln('Quando ser\\u00e1 lan\\u00e7ado o novo filme?')\\ntexto2 = pln('O novo filme ser\\u00e1 lan\\u00e7ado m\\u00eas que vem')\\ntexto3 = pln('Qual a cor do carro?')\\nprint( texto1.similarity(texto2))\\nprint( texto2.similarity(texto1))\\nprint( texto1.similarity(texto3))\\nprint( texto2.similarity(texto3))\";\n",
       "                var nbb_formatted_code = \"texto1 = pln(\\\"Quando ser\\u00e1 lan\\u00e7ado o novo filme?\\\")\\ntexto2 = pln(\\\"O novo filme ser\\u00e1 lan\\u00e7ado m\\u00eas que vem\\\")\\ntexto3 = pln(\\\"Qual a cor do carro?\\\")\\nprint(texto1.similarity(texto2))\\nprint(texto2.similarity(texto1))\\nprint(texto1.similarity(texto3))\\nprint(texto2.similarity(texto3))\";\n",
       "                var nbb_cells = Jupyter.notebook.get_cells();\n",
       "                for (var i = 0; i < nbb_cells.length; ++i) {\n",
       "                    if (nbb_cells[i].input_prompt_number == nbb_cell_id) {\n",
       "                        if (nbb_cells[i].get_text() == nbb_unformatted_code) {\n",
       "                             nbb_cells[i].set_text(nbb_formatted_code);\n",
       "                        }\n",
       "                        break;\n",
       "                    }\n",
       "                }\n",
       "            }, 500);\n",
       "            "
      ],
      "text/plain": [
       "<IPython.core.display.Javascript object>"
      ]
     },
     "metadata": {},
     "output_type": "display_data"
    }
   ],
   "source": [
    "texto1 = pln(\"Quando será lançado o novo filme?\")\n",
    "texto2 = pln(\"O novo filme será lançado mês que vem\")\n",
    "texto3 = pln(\"Qual a cor do carro?\")\n",
    "print(texto1.similarity(texto2))\n",
    "print(texto2.similarity(texto1))\n",
    "print(texto1.similarity(texto3))\n",
    "print(texto2.similarity(texto3))"
   ]
  },
  {
   "cell_type": "code",
   "execution_count": 46,
   "metadata": {},
   "outputs": [
    {
     "name": "stdout",
     "output_type": "stream",
     "text": [
      "gato é 100% similar a gato\n",
      "gato é 83% similar a cachorro\n",
      "gato é 51% similar a cavalo\n",
      "gato é 23% similar a pessoa\n",
      "cachorro é 83% similar a gato\n",
      "cachorro é 100% similar a cachorro\n",
      "cachorro é 55% similar a cavalo\n",
      "cachorro é 29% similar a pessoa\n",
      "cavalo é 51% similar a gato\n",
      "cavalo é 55% similar a cachorro\n",
      "cavalo é 100% similar a cavalo\n",
      "cavalo é 13% similar a pessoa\n",
      "pessoa é 23% similar a gato\n",
      "pessoa é 29% similar a cachorro\n",
      "pessoa é 13% similar a cavalo\n",
      "pessoa é 100% similar a pessoa\n"
     ]
    },
    {
     "data": {
      "application/javascript": [
       "\n",
       "            setTimeout(function() {\n",
       "                var nbb_cell_id = 46;\n",
       "                var nbb_unformatted_code = \"texto = pln(\\\"gato cachorro cavalo pessoa\\\")\\nfor texto1 in texto:\\n    for texto2 in texto:\\n        similaridade = int(texto1.similarity(texto2) * 100)\\n        print(\\\"{} \\u00e9 {}% similar a {}\\\".format(texto1, similaridade, texto2))\";\n",
       "                var nbb_formatted_code = \"texto = pln(\\\"gato cachorro cavalo pessoa\\\")\\nfor texto1 in texto:\\n    for texto2 in texto:\\n        similaridade = int(texto1.similarity(texto2) * 100)\\n        print(\\\"{} \\u00e9 {}% similar a {}\\\".format(texto1, similaridade, texto2))\";\n",
       "                var nbb_cells = Jupyter.notebook.get_cells();\n",
       "                for (var i = 0; i < nbb_cells.length; ++i) {\n",
       "                    if (nbb_cells[i].input_prompt_number == nbb_cell_id) {\n",
       "                        if (nbb_cells[i].get_text() == nbb_unformatted_code) {\n",
       "                             nbb_cells[i].set_text(nbb_formatted_code);\n",
       "                        }\n",
       "                        break;\n",
       "                    }\n",
       "                }\n",
       "            }, 500);\n",
       "            "
      ],
      "text/plain": [
       "<IPython.core.display.Javascript object>"
      ]
     },
     "metadata": {},
     "output_type": "display_data"
    }
   ],
   "source": [
    "texto = pln(\"gato cachorro cavalo pessoa\")\n",
    "for texto1 in texto:\n",
    "    for texto2 in texto:\n",
    "        similaridade = int(texto1.similarity(texto2) * 100)\n",
    "        print(\"{} é {}% similar a {}\".format(texto1, similaridade, texto2))"
   ]
  }
 ],
 "metadata": {
  "kernelspec": {
   "display_name": "Python 3",
   "language": "python",
   "name": "python3"
  },
  "language_info": {
   "codemirror_mode": {
    "name": "ipython",
    "version": 3
   },
   "file_extension": ".py",
   "mimetype": "text/x-python",
   "name": "python",
   "nbconvert_exporter": "python",
   "pygments_lexer": "ipython3",
   "version": "3.8.2"
  }
 },
 "nbformat": 4,
 "nbformat_minor": 2
}
