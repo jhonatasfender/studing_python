{
 "cells": [
  {
   "cell_type": "code",
   "execution_count": 1,
   "metadata": {},
   "outputs": [
    {
     "data": {
      "application/javascript": [
       "\n",
       "            setTimeout(function() {\n",
       "                var nbb_cell_id = 1;\n",
       "                var nbb_unformatted_code = \"%load_ext nb_black\";\n",
       "                var nbb_formatted_code = \"%load_ext nb_black\";\n",
       "                var nbb_cells = Jupyter.notebook.get_cells();\n",
       "                for (var i = 0; i < nbb_cells.length; ++i) {\n",
       "                    if (nbb_cells[i].input_prompt_number == nbb_cell_id) {\n",
       "                        if (nbb_cells[i].get_text() == nbb_unformatted_code) {\n",
       "                             nbb_cells[i].set_text(nbb_formatted_code);\n",
       "                        }\n",
       "                        break;\n",
       "                    }\n",
       "                }\n",
       "            }, 500);\n",
       "            "
      ],
      "text/plain": [
       "<IPython.core.display.Javascript object>"
      ]
     },
     "metadata": {},
     "output_type": "display_data"
    }
   ],
   "source": [
    "%load_ext nb_black"
   ]
  },
  {
   "cell_type": "code",
   "execution_count": 2,
   "metadata": {},
   "outputs": [
    {
     "data": {
      "application/javascript": [
       "\n",
       "            setTimeout(function() {\n",
       "                var nbb_cell_id = 2;\n",
       "                var nbb_unformatted_code = \"import requests\\nfrom bs4 import BeautifulSoup\\nimport time\\nfrom IPython.display import clear_output\\nimport pandas as pd\";\n",
       "                var nbb_formatted_code = \"import requests\\nfrom bs4 import BeautifulSoup\\nimport time\\nfrom IPython.display import clear_output\\nimport pandas as pd\";\n",
       "                var nbb_cells = Jupyter.notebook.get_cells();\n",
       "                for (var i = 0; i < nbb_cells.length; ++i) {\n",
       "                    if (nbb_cells[i].input_prompt_number == nbb_cell_id) {\n",
       "                        if (nbb_cells[i].get_text() == nbb_unformatted_code) {\n",
       "                             nbb_cells[i].set_text(nbb_formatted_code);\n",
       "                        }\n",
       "                        break;\n",
       "                    }\n",
       "                }\n",
       "            }, 500);\n",
       "            "
      ],
      "text/plain": [
       "<IPython.core.display.Javascript object>"
      ]
     },
     "metadata": {},
     "output_type": "display_data"
    }
   ],
   "source": [
    "import requests\n",
    "from bs4 import BeautifulSoup\n",
    "import time\n",
    "from IPython.display import clear_output\n",
    "import pandas as pd"
   ]
  },
  {
   "cell_type": "code",
   "execution_count": 8,
   "metadata": {},
   "outputs": [
    {
     "data": {
      "text/plain": [
       "'frases-de-amizade'"
      ]
     },
     "execution_count": 8,
     "metadata": {},
     "output_type": "execute_result"
    },
    {
     "data": {
      "application/javascript": [
       "\n",
       "            setTimeout(function() {\n",
       "                var nbb_cell_id = 8;\n",
       "                var nbb_unformatted_code = \"page = requests.get(\\\"https://www.frasesdobem.com.br/frases-de-autoestima\\\")\\nsoup = BeautifulSoup(page.text, \\\"html.parser\\\")\\nlinks = [\\n    a.attrs.get(\\\"href\\\")\\n    for a in soup.select_one(\\\".col-md-4.sidebar\\\").select(\\\"a\\\")\\n    if len(a.attrs.get(\\\"href\\\")) > 20 and \\\"frases-\\\" in a.attrs.get(\\\"href\\\")\\n]\\nlinks[0].split(\\\"/\\\")[-1]\";\n",
       "                var nbb_formatted_code = \"page = requests.get(\\\"https://www.frasesdobem.com.br/frases-de-autoestima\\\")\\nsoup = BeautifulSoup(page.text, \\\"html.parser\\\")\\nlinks = [\\n    a.attrs.get(\\\"href\\\")\\n    for a in soup.select_one(\\\".col-md-4.sidebar\\\").select(\\\"a\\\")\\n    if len(a.attrs.get(\\\"href\\\")) > 20 and \\\"frases-\\\" in a.attrs.get(\\\"href\\\")\\n]\\nlinks[0].split(\\\"/\\\")[-1]\";\n",
       "                var nbb_cells = Jupyter.notebook.get_cells();\n",
       "                for (var i = 0; i < nbb_cells.length; ++i) {\n",
       "                    if (nbb_cells[i].input_prompt_number == nbb_cell_id) {\n",
       "                        if (nbb_cells[i].get_text() == nbb_unformatted_code) {\n",
       "                             nbb_cells[i].set_text(nbb_formatted_code);\n",
       "                        }\n",
       "                        break;\n",
       "                    }\n",
       "                }\n",
       "            }, 500);\n",
       "            "
      ],
      "text/plain": [
       "<IPython.core.display.Javascript object>"
      ]
     },
     "metadata": {},
     "output_type": "display_data"
    }
   ],
   "source": [
    "page = requests.get(\"https://www.frasesdobem.com.br/frases-de-autoestima\")\n",
    "soup = BeautifulSoup(page.text, \"html.parser\")\n",
    "links = [\n",
    "    a.attrs.get(\"href\")\n",
    "    for a in soup.select_one(\".col-md-4.sidebar\").select(\"a\")\n",
    "    if len(a.attrs.get(\"href\")) > 20 and \"frases-\" in a.attrs.get(\"href\")\n",
    "]\n",
    "links[0].split(\"/\")[-1]"
   ]
  },
  {
   "cell_type": "code",
   "execution_count": 9,
   "metadata": {},
   "outputs": [
    {
     "name": "stdout",
     "output_type": "stream",
     "text": [
      "https://www.frasesdobem.com.br/frases-perfeitas/page/3 30\n"
     ]
    },
    {
     "data": {
      "application/javascript": [
       "\n",
       "            setTimeout(function() {\n",
       "                var nbb_cell_id = 9;\n",
       "                var nbb_unformatted_code = \"phrases = []\\ncount_next_link = 1\\n\\n\\ndef scraping(link: str):\\n    global phrases, count_next_link\\n\\n    clear_output(wait=True)\\n    print(link, len(phrases))\\n\\n    page = requests.get(link)\\n    soup = BeautifulSoup(page.text, \\\"html.parser\\\")\\n\\n    for img in soup.findAll(\\\"img\\\"):\\n        if img.attrs.get(\\\"alt\\\") and len(img.attrs.get(\\\"alt\\\")) > 15:\\n            phrases.append(img.attrs.get(\\\"alt\\\"))\\n\\n    phrases = list(set(phrases))\\n    time.sleep(30)\\n    count_next_link += 1\\n\\n    next_link = None\\n\\n    for link in soup.select(\\\".text-center.paginacao a\\\"):\\n        if link.text in str(count_next_link):\\n            next_link = link.attrs.get(\\\"href\\\")\\n\\n    if not next_link:\\n        return False\\n\\n    scraping(next_link)\\n\\n\\nfor emotion in links:\\n    phrases = []\\n    count_next_link = 1\\n    \\n    path = \\\"generating-data-emotions/{}.csv\\\".format(emotion.split(\\\"/\\\")[-1])\\n    \\n    print(path)\\n\\n    scraping(emotion)\\n\\n    df = pd.DataFrame(phrases)\\n    df.to_csv(path)\\n    df\";\n",
       "                var nbb_formatted_code = \"phrases = []\\ncount_next_link = 1\\n\\n\\ndef scraping(link: str):\\n    global phrases, count_next_link\\n\\n    clear_output(wait=True)\\n    print(link, len(phrases))\\n\\n    page = requests.get(link)\\n    soup = BeautifulSoup(page.text, \\\"html.parser\\\")\\n\\n    for img in soup.findAll(\\\"img\\\"):\\n        if img.attrs.get(\\\"alt\\\") and len(img.attrs.get(\\\"alt\\\")) > 15:\\n            phrases.append(img.attrs.get(\\\"alt\\\"))\\n\\n    phrases = list(set(phrases))\\n    time.sleep(30)\\n    count_next_link += 1\\n\\n    next_link = None\\n\\n    for link in soup.select(\\\".text-center.paginacao a\\\"):\\n        if link.text in str(count_next_link):\\n            next_link = link.attrs.get(\\\"href\\\")\\n\\n    if not next_link:\\n        return False\\n\\n    scraping(next_link)\\n\\n\\nfor emotion in links:\\n    phrases = []\\n    count_next_link = 1\\n\\n    path = \\\"generating-data-emotions/{}.csv\\\".format(emotion.split(\\\"/\\\")[-1])\\n\\n    print(path)\\n\\n    scraping(emotion)\\n\\n    df = pd.DataFrame(phrases)\\n    df.to_csv(path)\\n    df\";\n",
       "                var nbb_cells = Jupyter.notebook.get_cells();\n",
       "                for (var i = 0; i < nbb_cells.length; ++i) {\n",
       "                    if (nbb_cells[i].input_prompt_number == nbb_cell_id) {\n",
       "                        if (nbb_cells[i].get_text() == nbb_unformatted_code) {\n",
       "                             nbb_cells[i].set_text(nbb_formatted_code);\n",
       "                        }\n",
       "                        break;\n",
       "                    }\n",
       "                }\n",
       "            }, 500);\n",
       "            "
      ],
      "text/plain": [
       "<IPython.core.display.Javascript object>"
      ]
     },
     "metadata": {},
     "output_type": "display_data"
    }
   ],
   "source": [
    "phrases = []\n",
    "count_next_link = 1\n",
    "\n",
    "\n",
    "def scraping(link: str):\n",
    "    global phrases, count_next_link\n",
    "\n",
    "    clear_output(wait=True)\n",
    "    print(link, len(phrases))\n",
    "\n",
    "    page = requests.get(link)\n",
    "    soup = BeautifulSoup(page.text, \"html.parser\")\n",
    "\n",
    "    for img in soup.findAll(\"img\"):\n",
    "        if img.attrs.get(\"alt\") and len(img.attrs.get(\"alt\")) > 15:\n",
    "            phrases.append(img.attrs.get(\"alt\"))\n",
    "\n",
    "    phrases = list(set(phrases))\n",
    "    time.sleep(30)\n",
    "    count_next_link += 1\n",
    "\n",
    "    next_link = None\n",
    "\n",
    "    for link in soup.select(\".text-center.paginacao a\"):\n",
    "        if link.text in str(count_next_link):\n",
    "            next_link = link.attrs.get(\"href\")\n",
    "\n",
    "    if not next_link:\n",
    "        return False\n",
    "\n",
    "    scraping(next_link)\n",
    "\n",
    "\n",
    "for emotion in links:\n",
    "    phrases = []\n",
    "    count_next_link = 1\n",
    "\n",
    "    path = \"generating-data-emotions/{}.csv\".format(emotion.split(\"/\")[-1])\n",
    "\n",
    "    print(path)\n",
    "\n",
    "    scraping(emotion)\n",
    "\n",
    "    df = pd.DataFrame(phrases)\n",
    "    df.to_csv(path)\n",
    "    df"
   ]
  }
 ],
 "metadata": {
  "kernelspec": {
   "display_name": "Python 3.8.2 64-bit",
   "language": "python",
   "name": "python38264bita9a0329ecd1948ce89aa60c195c8763d"
  },
  "language_info": {
   "codemirror_mode": {
    "name": "ipython",
    "version": 3
   },
   "file_extension": ".py",
   "mimetype": "text/x-python",
   "name": "python",
   "nbconvert_exporter": "python",
   "pygments_lexer": "ipython3",
   "version": "3.8.2"
  }
 },
 "nbformat": 4,
 "nbformat_minor": 2
}
