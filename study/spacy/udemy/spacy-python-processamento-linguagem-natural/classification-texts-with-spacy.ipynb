{
 "cells": [
  {
   "cell_type": "code",
   "execution_count": 1,
   "metadata": {},
   "outputs": [
    {
     "data": {
      "application/javascript": [
       "\n",
       "            setTimeout(function() {\n",
       "                var nbb_cell_id = 1;\n",
       "                var nbb_unformatted_code = \"%load_ext nb_black\";\n",
       "                var nbb_formatted_code = \"%load_ext nb_black\";\n",
       "                var nbb_cells = Jupyter.notebook.get_cells();\n",
       "                for (var i = 0; i < nbb_cells.length; ++i) {\n",
       "                    if (nbb_cells[i].input_prompt_number == nbb_cell_id) {\n",
       "                        if (nbb_cells[i].get_text() == nbb_unformatted_code) {\n",
       "                             nbb_cells[i].set_text(nbb_formatted_code);\n",
       "                        }\n",
       "                        break;\n",
       "                    }\n",
       "                }\n",
       "            }, 500);\n",
       "            "
      ],
      "text/plain": [
       "<IPython.core.display.Javascript object>"
      ]
     },
     "metadata": {},
     "output_type": "display_data"
    }
   ],
   "source": [
    "%load_ext nb_black"
   ]
  },
  {
   "cell_type": "code",
   "execution_count": 2,
   "metadata": {},
   "outputs": [
    {
     "data": {
      "application/javascript": [
       "\n",
       "            setTimeout(function() {\n",
       "                var nbb_cell_id = 2;\n",
       "                var nbb_unformatted_code = \"import pandas as pd\\nimport string\\nimport spacy\\nimport random\\nimport seaborn as sns\\nimport numpy as np\";\n",
       "                var nbb_formatted_code = \"import pandas as pd\\nimport string\\nimport spacy\\nimport random\\nimport seaborn as sns\\nimport numpy as np\";\n",
       "                var nbb_cells = Jupyter.notebook.get_cells();\n",
       "                for (var i = 0; i < nbb_cells.length; ++i) {\n",
       "                    if (nbb_cells[i].input_prompt_number == nbb_cell_id) {\n",
       "                        if (nbb_cells[i].get_text() == nbb_unformatted_code) {\n",
       "                             nbb_cells[i].set_text(nbb_formatted_code);\n",
       "                        }\n",
       "                        break;\n",
       "                    }\n",
       "                }\n",
       "            }, 500);\n",
       "            "
      ],
      "text/plain": [
       "<IPython.core.display.Javascript object>"
      ]
     },
     "metadata": {},
     "output_type": "display_data"
    }
   ],
   "source": [
    "import pandas as pd\n",
    "import string\n",
    "import spacy\n",
    "import random\n",
    "import seaborn as sns\n",
    "import numpy as np"
   ]
  },
  {
   "cell_type": "code",
   "execution_count": 3,
   "metadata": {},
   "outputs": [
    {
     "data": {
      "text/html": [
       "<div>\n",
       "<style scoped>\n",
       "    .dataframe tbody tr th:only-of-type {\n",
       "        vertical-align: middle;\n",
       "    }\n",
       "\n",
       "    .dataframe tbody tr th {\n",
       "        vertical-align: top;\n",
       "    }\n",
       "\n",
       "    .dataframe thead th {\n",
       "        text-align: right;\n",
       "    }\n",
       "</style>\n",
       "<table border=\"1\" class=\"dataframe\">\n",
       "  <thead>\n",
       "    <tr style=\"text-align: right;\">\n",
       "      <th></th>\n",
       "      <th>texto</th>\n",
       "      <th>emocao</th>\n",
       "    </tr>\n",
       "  </thead>\n",
       "  <tbody>\n",
       "    <tr>\n",
       "      <th>0</th>\n",
       "      <td>este trabalho é agradável</td>\n",
       "      <td>alegria</td>\n",
       "    </tr>\n",
       "    <tr>\n",
       "      <th>1</th>\n",
       "      <td>gosto de ficar no seu aconchego</td>\n",
       "      <td>alegria</td>\n",
       "    </tr>\n",
       "    <tr>\n",
       "      <th>2</th>\n",
       "      <td>fiz a adesão ao curso hoje</td>\n",
       "      <td>alegria</td>\n",
       "    </tr>\n",
       "    <tr>\n",
       "      <th>3</th>\n",
       "      <td>eu sou admirada por muitos</td>\n",
       "      <td>alegria</td>\n",
       "    </tr>\n",
       "    <tr>\n",
       "      <th>4</th>\n",
       "      <td>adoro como você</td>\n",
       "      <td>alegria</td>\n",
       "    </tr>\n",
       "    <tr>\n",
       "      <th>...</th>\n",
       "      <td>...</td>\n",
       "      <td>...</td>\n",
       "    </tr>\n",
       "    <tr>\n",
       "      <th>191</th>\n",
       "      <td>estou chocado e amedrontado com este assassina...</td>\n",
       "      <td>medo</td>\n",
       "    </tr>\n",
       "    <tr>\n",
       "      <th>192</th>\n",
       "      <td>é preciso afugenta com ímpeto este medo do inf...</td>\n",
       "      <td>medo</td>\n",
       "    </tr>\n",
       "    <tr>\n",
       "      <th>193</th>\n",
       "      <td>políticos usam suas forças para afugentar e am...</td>\n",
       "      <td>medo</td>\n",
       "    </tr>\n",
       "    <tr>\n",
       "      <th>194</th>\n",
       "      <td>o objetivo disso e apenas me amedrontar mais</td>\n",
       "      <td>medo</td>\n",
       "    </tr>\n",
       "    <tr>\n",
       "      <th>195</th>\n",
       "      <td>isso me apavora</td>\n",
       "      <td>medo</td>\n",
       "    </tr>\n",
       "  </tbody>\n",
       "</table>\n",
       "<p>196 rows × 2 columns</p>\n",
       "</div>"
      ],
      "text/plain": [
       "                                                 texto   emocao\n",
       "0                            este trabalho é agradável  alegria\n",
       "1                      gosto de ficar no seu aconchego  alegria\n",
       "2                           fiz a adesão ao curso hoje  alegria\n",
       "3                           eu sou admirada por muitos  alegria\n",
       "4                                      adoro como você  alegria\n",
       "..                                                 ...      ...\n",
       "191  estou chocado e amedrontado com este assassina...     medo\n",
       "192  é preciso afugenta com ímpeto este medo do inf...     medo\n",
       "193  políticos usam suas forças para afugentar e am...     medo\n",
       "194       o objetivo disso e apenas me amedrontar mais     medo\n",
       "195                                    isso me apavora     medo\n",
       "\n",
       "[196 rows x 2 columns]"
      ]
     },
     "execution_count": 3,
     "metadata": {},
     "output_type": "execute_result"
    },
    {
     "data": {
      "application/javascript": [
       "\n",
       "            setTimeout(function() {\n",
       "                var nbb_cell_id = 3;\n",
       "                var nbb_unformatted_code = \"data = pd.read_csv(\\\"./data/base_treinamento.txt\\\", encoding=\\\"utf-8\\\")\\ndata\";\n",
       "                var nbb_formatted_code = \"data = pd.read_csv(\\\"./data/base_treinamento.txt\\\", encoding=\\\"utf-8\\\")\\ndata\";\n",
       "                var nbb_cells = Jupyter.notebook.get_cells();\n",
       "                for (var i = 0; i < nbb_cells.length; ++i) {\n",
       "                    if (nbb_cells[i].input_prompt_number == nbb_cell_id) {\n",
       "                        if (nbb_cells[i].get_text() == nbb_unformatted_code) {\n",
       "                             nbb_cells[i].set_text(nbb_formatted_code);\n",
       "                        }\n",
       "                        break;\n",
       "                    }\n",
       "                }\n",
       "            }, 500);\n",
       "            "
      ],
      "text/plain": [
       "<IPython.core.display.Javascript object>"
      ]
     },
     "metadata": {},
     "output_type": "display_data"
    }
   ],
   "source": [
    "data = pd.read_csv(\"./data/base_treinamento.txt\", encoding=\"utf-8\")\n",
    "data"
   ]
  },
  {
   "cell_type": "code",
   "execution_count": 4,
   "metadata": {},
   "outputs": [
    {
     "data": {
      "text/plain": [
       "<AxesSubplot:xlabel='emocao', ylabel='count'>"
      ]
     },
     "execution_count": 4,
     "metadata": {},
     "output_type": "execute_result"
    },
    {
     "data": {
      "image/png": "[encoded data removed]",
      "text/plain": [
       "<Figure size 432x288 with 1 Axes>"
      ]
     },
     "metadata": {
      "needs_background": "light"
     },
     "output_type": "display_data"
    },
    {
     "data": {
      "application/javascript": [
       "\n",
       "            setTimeout(function() {\n",
       "                var nbb_cell_id = 4;\n",
       "                var nbb_unformatted_code = \"sns.countplot(data.emocao, label=\\\"Contagem\\\")\";\n",
       "                var nbb_formatted_code = \"sns.countplot(data.emocao, label=\\\"Contagem\\\")\";\n",
       "                var nbb_cells = Jupyter.notebook.get_cells();\n",
       "                for (var i = 0; i < nbb_cells.length; ++i) {\n",
       "                    if (nbb_cells[i].input_prompt_number == nbb_cell_id) {\n",
       "                        if (nbb_cells[i].get_text() == nbb_unformatted_code) {\n",
       "                             nbb_cells[i].set_text(nbb_formatted_code);\n",
       "                        }\n",
       "                        break;\n",
       "                    }\n",
       "                }\n",
       "            }, 500);\n",
       "            "
      ],
      "text/plain": [
       "<IPython.core.display.Javascript object>"
      ]
     },
     "metadata": {},
     "output_type": "display_data"
    }
   ],
   "source": [
    "sns.countplot(data.emocao, label=\"Contagem\")"
   ]
  },
  {
   "cell_type": "code",
   "execution_count": 5,
   "metadata": {},
   "outputs": [
    {
     "data": {
      "application/javascript": [
       "\n",
       "            setTimeout(function() {\n",
       "                var nbb_cell_id = 5;\n",
       "                var nbb_unformatted_code = \"pln = spacy.load(\\\"pt\\\")\";\n",
       "                var nbb_formatted_code = \"pln = spacy.load(\\\"pt\\\")\";\n",
       "                var nbb_cells = Jupyter.notebook.get_cells();\n",
       "                for (var i = 0; i < nbb_cells.length; ++i) {\n",
       "                    if (nbb_cells[i].input_prompt_number == nbb_cell_id) {\n",
       "                        if (nbb_cells[i].get_text() == nbb_unformatted_code) {\n",
       "                             nbb_cells[i].set_text(nbb_formatted_code);\n",
       "                        }\n",
       "                        break;\n",
       "                    }\n",
       "                }\n",
       "            }, 500);\n",
       "            "
      ],
      "text/plain": [
       "<IPython.core.display.Javascript object>"
      ]
     },
     "metadata": {},
     "output_type": "display_data"
    }
   ],
   "source": [
    "pln = spacy.load(\"pt\")"
   ]
  },
  {
   "cell_type": "code",
   "execution_count": 6,
   "metadata": {},
   "outputs": [
    {
     "data": {
      "text/plain": [
       "'aprender processamento linguagem natura'"
      ]
     },
     "execution_count": 6,
     "metadata": {},
     "output_type": "execute_result"
    },
    {
     "data": {
      "application/javascript": [
       "\n",
       "            setTimeout(function() {\n",
       "                var nbb_cell_id = 6;\n",
       "                var nbb_unformatted_code = \"def preprocess(text):\\n    from spacy.lang.pt.stop_words import STOP_WORDS\\n\\n    _list = [token.lemma_ for token in pln(text.lower())]\\n    return \\\" \\\".join(\\n        [\\n            str(word)\\n            for word in _list\\n            if word not in STOP_WORDS\\n            and word not in string.punctuation\\n            and not word.isdigit()\\n        ]\\n    )\\n\\n\\npreprocess(\\\"Estou aPrendendo 1 10 23 processamento de linguagem natura.\\\")\";\n",
       "                var nbb_formatted_code = \"def preprocess(text):\\n    from spacy.lang.pt.stop_words import STOP_WORDS\\n\\n    _list = [token.lemma_ for token in pln(text.lower())]\\n    return \\\" \\\".join(\\n        [\\n            str(word)\\n            for word in _list\\n            if word not in STOP_WORDS\\n            and word not in string.punctuation\\n            and not word.isdigit()\\n        ]\\n    )\\n\\n\\npreprocess(\\\"Estou aPrendendo 1 10 23 processamento de linguagem natura.\\\")\";\n",
       "                var nbb_cells = Jupyter.notebook.get_cells();\n",
       "                for (var i = 0; i < nbb_cells.length; ++i) {\n",
       "                    if (nbb_cells[i].input_prompt_number == nbb_cell_id) {\n",
       "                        if (nbb_cells[i].get_text() == nbb_unformatted_code) {\n",
       "                             nbb_cells[i].set_text(nbb_formatted_code);\n",
       "                        }\n",
       "                        break;\n",
       "                    }\n",
       "                }\n",
       "            }, 500);\n",
       "            "
      ],
      "text/plain": [
       "<IPython.core.display.Javascript object>"
      ]
     },
     "metadata": {},
     "output_type": "display_data"
    }
   ],
   "source": [
    "def preprocess(text):\n",
    "    from spacy.lang.pt.stop_words import STOP_WORDS\n",
    "\n",
    "    _list = [token.lemma_ for token in pln(text.lower())]\n",
    "    return \" \".join(\n",
    "        [\n",
    "            str(word)\n",
    "            for word in _list\n",
    "            if word not in STOP_WORDS\n",
    "            and word not in string.punctuation\n",
    "            and not word.isdigit()\n",
    "        ]\n",
    "    )\n",
    "\n",
    "\n",
    "preprocess(\"Estou aPrendendo 1 10 23 processamento de linguagem natura.\")"
   ]
  },
  {
   "cell_type": "code",
   "execution_count": 7,
   "metadata": {},
   "outputs": [
    {
     "data": {
      "text/html": [
       "<div>\n",
       "<style scoped>\n",
       "    .dataframe tbody tr th:only-of-type {\n",
       "        vertical-align: middle;\n",
       "    }\n",
       "\n",
       "    .dataframe tbody tr th {\n",
       "        vertical-align: top;\n",
       "    }\n",
       "\n",
       "    .dataframe thead th {\n",
       "        text-align: right;\n",
       "    }\n",
       "</style>\n",
       "<table border=\"1\" class=\"dataframe\">\n",
       "  <thead>\n",
       "    <tr style=\"text-align: right;\">\n",
       "      <th></th>\n",
       "      <th>texto</th>\n",
       "      <th>emocao</th>\n",
       "    </tr>\n",
       "  </thead>\n",
       "  <tbody>\n",
       "    <tr>\n",
       "      <th>0</th>\n",
       "      <td>trabalhar agradável</td>\n",
       "      <td>alegria</td>\n",
       "    </tr>\n",
       "    <tr>\n",
       "      <th>1</th>\n",
       "      <td>gostar ficar o aconchegar</td>\n",
       "      <td>alegria</td>\n",
       "    </tr>\n",
       "    <tr>\n",
       "      <th>2</th>\n",
       "      <td>o adesão cursar hoje</td>\n",
       "      <td>alegria</td>\n",
       "    </tr>\n",
       "    <tr>\n",
       "      <th>3</th>\n",
       "      <td>admirar</td>\n",
       "      <td>alegria</td>\n",
       "    </tr>\n",
       "    <tr>\n",
       "      <th>4</th>\n",
       "      <td>adorar comer</td>\n",
       "      <td>alegria</td>\n",
       "    </tr>\n",
       "    <tr>\n",
       "      <th>...</th>\n",
       "      <td>...</td>\n",
       "      <td>...</td>\n",
       "    </tr>\n",
       "    <tr>\n",
       "      <th>191</th>\n",
       "      <td>chocar e amedrontar assassinato brutal</td>\n",
       "      <td>medo</td>\n",
       "    </tr>\n",
       "    <tr>\n",
       "      <th>192</th>\n",
       "      <td>precisar afugentar ímpeto medo infernar</td>\n",
       "      <td>medo</td>\n",
       "    </tr>\n",
       "    <tr>\n",
       "      <th>193</th>\n",
       "      <td>político suar forçar parir afugentar e amedron...</td>\n",
       "      <td>medo</td>\n",
       "    </tr>\n",
       "    <tr>\n",
       "      <th>194</th>\n",
       "      <td>o objetivo e amedrontar</td>\n",
       "      <td>medo</td>\n",
       "    </tr>\n",
       "    <tr>\n",
       "      <th>195</th>\n",
       "      <td>apavorar</td>\n",
       "      <td>medo</td>\n",
       "    </tr>\n",
       "  </tbody>\n",
       "</table>\n",
       "<p>196 rows × 2 columns</p>\n",
       "</div>"
      ],
      "text/plain": [
       "                                                 texto   emocao\n",
       "0                                  trabalhar agradável  alegria\n",
       "1                            gostar ficar o aconchegar  alegria\n",
       "2                                 o adesão cursar hoje  alegria\n",
       "3                                              admirar  alegria\n",
       "4                                         adorar comer  alegria\n",
       "..                                                 ...      ...\n",
       "191             chocar e amedrontar assassinato brutal     medo\n",
       "192            precisar afugentar ímpeto medo infernar     medo\n",
       "193  político suar forçar parir afugentar e amedron...     medo\n",
       "194                            o objetivo e amedrontar     medo\n",
       "195                                           apavorar     medo\n",
       "\n",
       "[196 rows x 2 columns]"
      ]
     },
     "execution_count": 7,
     "metadata": {},
     "output_type": "execute_result"
    },
    {
     "data": {
      "application/javascript": [
       "\n",
       "            setTimeout(function() {\n",
       "                var nbb_cell_id = 7;\n",
       "                var nbb_unformatted_code = \"data.texto = data.texto.apply(preprocess)\\ndata\";\n",
       "                var nbb_formatted_code = \"data.texto = data.texto.apply(preprocess)\\ndata\";\n",
       "                var nbb_cells = Jupyter.notebook.get_cells();\n",
       "                for (var i = 0; i < nbb_cells.length; ++i) {\n",
       "                    if (nbb_cells[i].input_prompt_number == nbb_cell_id) {\n",
       "                        if (nbb_cells[i].get_text() == nbb_unformatted_code) {\n",
       "                             nbb_cells[i].set_text(nbb_formatted_code);\n",
       "                        }\n",
       "                        break;\n",
       "                    }\n",
       "                }\n",
       "            }, 500);\n",
       "            "
      ],
      "text/plain": [
       "<IPython.core.display.Javascript object>"
      ]
     },
     "metadata": {},
     "output_type": "display_data"
    }
   ],
   "source": [
    "data.texto = data.texto.apply(preprocess)\n",
    "data"
   ]
  },
  {
   "cell_type": "code",
   "execution_count": 8,
   "metadata": {},
   "outputs": [
    {
     "data": {
      "application/javascript": [
       "\n",
       "            setTimeout(function() {\n",
       "                var nbb_cell_id = 8;\n",
       "                var nbb_unformatted_code = \"training = []\\nfor text, emotion in zip(data.texto, data.emocao):\\n    if emotion == \\\"alegria\\\":\\n        dic = {\\\"ALEGRIA\\\": True, \\\"MEDO\\\": False}\\n    elif emotion == \\\"medo\\\":\\n        dic = {\\\"ALEGRIA\\\": False, \\\"MEDO\\\": True}\\n\\n    training.append([text, dic.copy()])\";\n",
       "                var nbb_formatted_code = \"training = []\\nfor text, emotion in zip(data.texto, data.emocao):\\n    if emotion == \\\"alegria\\\":\\n        dic = {\\\"ALEGRIA\\\": True, \\\"MEDO\\\": False}\\n    elif emotion == \\\"medo\\\":\\n        dic = {\\\"ALEGRIA\\\": False, \\\"MEDO\\\": True}\\n\\n    training.append([text, dic.copy()])\";\n",
       "                var nbb_cells = Jupyter.notebook.get_cells();\n",
       "                for (var i = 0; i < nbb_cells.length; ++i) {\n",
       "                    if (nbb_cells[i].input_prompt_number == nbb_cell_id) {\n",
       "                        if (nbb_cells[i].get_text() == nbb_unformatted_code) {\n",
       "                             nbb_cells[i].set_text(nbb_formatted_code);\n",
       "                        }\n",
       "                        break;\n",
       "                    }\n",
       "                }\n",
       "            }, 500);\n",
       "            "
      ],
      "text/plain": [
       "<IPython.core.display.Javascript object>"
      ]
     },
     "metadata": {},
     "output_type": "display_data"
    }
   ],
   "source": [
    "training = []\n",
    "for text, emotion in zip(data.texto, data.emocao):\n",
    "    if emotion == \"alegria\":\n",
    "        dic = {\"ALEGRIA\": True, \"MEDO\": False}\n",
    "    elif emotion == \"medo\":\n",
    "        dic = {\"ALEGRIA\": False, \"MEDO\": True}\n",
    "\n",
    "    training.append([text, dic.copy()])\n"
   ]
  },
  {
   "cell_type": "code",
   "execution_count": 30,
   "metadata": {},
   "outputs": [
    {
     "data": {
      "application/javascript": [
       "\n",
       "            setTimeout(function() {\n",
       "                var nbb_cell_id = 30;\n",
       "                var nbb_unformatted_code = \"model = spacy.blank(\\\"pt\\\")\\ncategory = model.create_pipe(\\\"textcat\\\")\\ncategory.add_label(\\\"ALEGRIA\\\")\\ncategory.add_label(\\\"MEDO\\\")\\nmodel.add_pipe(category)\\nhistory = []\";\n",
       "                var nbb_formatted_code = \"model = spacy.blank(\\\"pt\\\")\\ncategory = model.create_pipe(\\\"textcat\\\")\\ncategory.add_label(\\\"ALEGRIA\\\")\\ncategory.add_label(\\\"MEDO\\\")\\nmodel.add_pipe(category)\\nhistory = []\";\n",
       "                var nbb_cells = Jupyter.notebook.get_cells();\n",
       "                for (var i = 0; i < nbb_cells.length; ++i) {\n",
       "                    if (nbb_cells[i].input_prompt_number == nbb_cell_id) {\n",
       "                        if (nbb_cells[i].get_text() == nbb_unformatted_code) {\n",
       "                             nbb_cells[i].set_text(nbb_formatted_code);\n",
       "                        }\n",
       "                        break;\n",
       "                    }\n",
       "                }\n",
       "            }, 500);\n",
       "            "
      ],
      "text/plain": [
       "<IPython.core.display.Javascript object>"
      ]
     },
     "metadata": {},
     "output_type": "display_data"
    }
   ],
   "source": [
    "model = spacy.blank(\"pt\")\n",
    "category = model.create_pipe(\"textcat\")\n",
    "category.add_label(\"ALEGRIA\")\n",
    "category.add_label(\"MEDO\")\n",
    "model.add_pipe(category)\n",
    "history = []"
   ]
  },
  {
   "cell_type": "code",
   "execution_count": 40,
   "metadata": {},
   "outputs": [
    {
     "data": {
      "application/vnd.jupyter.widget-view+json": {
       "model_id": "4217e7aaecc44f7eb423643e01b00ca2",
       "version_major": 2,
       "version_minor": 0
      },
      "text/plain": [
       "IntProgress(value=0, max=4200)"
      ]
     },
     "metadata": {},
     "output_type": "display_data"
    },
    {
     "data": {
      "application/javascript": [
       "\n",
       "            setTimeout(function() {\n",
       "                var nbb_cell_id = 39;\n",
       "                var nbb_unformatted_code = \"import threading\\nfrom ipywidgets import IntProgress\\nfrom IPython.display import display\\n\\nmax_epoch = 600\\n\\nf = IntProgress(min=0, max=(max_epoch*7)) \\ndisplay(f)  \\n\\nmodel.begin_training()\\nfor epoch in range(max_epoch):\\n    random.shuffle(training)\\n    losses = {}\\n    for batch in spacy.util.minibatch(training, 30):\\n        f.value += 1 \\n        text = [model(text) for text, entities in batch]\\n        annotations = [{'cats': entities} for text, entities in batch]\\n        modelo.update(text, annotations, losses=losses)\\n    if epoch % 100 == 0:\\n        history.append(losses)\";\n",
       "                var nbb_formatted_code = \"import threading\\nfrom ipywidgets import IntProgress\\nfrom IPython.display import display\\n\\nmax_epoch = 600\\n\\nf = IntProgress(min=0, max=(max_epoch * 7))\\ndisplay(f)\\n\\nmodel.begin_training()\\nfor epoch in range(max_epoch):\\n    random.shuffle(training)\\n    losses = {}\\n    for batch in spacy.util.minibatch(training, 30):\\n        f.value += 1\\n        text = [model(text) for text, entities in batch]\\n        annotations = [{\\\"cats\\\": entities} for text, entities in batch]\\n        modelo.update(text, annotations, losses=losses)\\n    if epoch % 100 == 0:\\n        history.append(losses)\";\n",
       "                var nbb_cells = Jupyter.notebook.get_cells();\n",
       "                for (var i = 0; i < nbb_cells.length; ++i) {\n",
       "                    if (nbb_cells[i].input_prompt_number == nbb_cell_id) {\n",
       "                        if (nbb_cells[i].get_text() == nbb_unformatted_code) {\n",
       "                             nbb_cells[i].set_text(nbb_formatted_code);\n",
       "                        }\n",
       "                        break;\n",
       "                    }\n",
       "                }\n",
       "            }, 500);\n",
       "            "
      ],
      "text/plain": [
       "<IPython.core.display.Javascript object>"
      ]
     },
     "metadata": {},
     "output_type": "display_data"
    }
   ],
   "source": [
    "import threading\n",
    "from ipywidgets import IntProgress\n",
    "from IPython.display import display\n",
    "\n",
    "max_epoch = 600\n",
    "\n",
    "f = IntProgress(min=0, max=(max_epoch*7)) \n",
    "display(f)  \n",
    "\n",
    "model.begin_training()\n",
    "for epoch in range(max_epoch):\n",
    "    random.shuffle(training)\n",
    "    losses = {}\n",
    "    for batch in spacy.util.minibatch(training, 30):\n",
    "        f.value += 1 \n",
    "        text = [model(text) for text, entities in batch]\n",
    "        annotations = [{'cats': entities} for text, entities in batch]\n",
    "        model.update(text, annotations, losses=losses)\n",
    "    if epoch % 100 == 0:\n",
    "        history.append(losses)\n"
   ]
  },
  {
   "cell_type": "code",
   "execution_count": 41,
   "metadata": {},
   "outputs": [
    {
     "data": {
      "text/plain": [
       "Text(0, 0.5, 'Erro')"
      ]
     },
     "execution_count": 41,
     "metadata": {},
     "output_type": "execute_result"
    },
    {
     "data": {
      "image/png": "[encoded data removed]",
      "text/plain": [
       "<Figure size 432x288 with 1 Axes>"
      ]
     },
     "metadata": {
      "needs_background": "light"
     },
     "output_type": "display_data"
    },
    {
     "data": {
      "application/javascript": [
       "\n",
       "            setTimeout(function() {\n",
       "                var nbb_cell_id = 40;\n",
       "                var nbb_unformatted_code = \"import threading\\nfrom ipywidgets import IntProgress\\nfrom IPython.display import display\\n\\nmax_epoch = 600\\n\\nf = IntProgress(min=0, max=(max_epoch*7)) \\ndisplay(f)  \\n\\nmodel.begin_training()\\nfor epoch in range(max_epoch):\\n    random.shuffle(training)\\n    losses = {}\\n    for batch in spacy.util.minibatch(training, 30):\\n        f.value += 1 \\n        text = [model(text) for text, entities in batch]\\n        annotations = [{'cats': entities} for text, entities in batch]\\n        model.update(text, annotations, losses=losses)\\n    if epoch % 100 == 0:\\n        history.append(losses)\";\n",
       "                var nbb_formatted_code = \"import threading\\nfrom ipywidgets import IntProgress\\nfrom IPython.display import display\\n\\nmax_epoch = 600\\n\\nf = IntProgress(min=0, max=(max_epoch * 7))\\ndisplay(f)\\n\\nmodel.begin_training()\\nfor epoch in range(max_epoch):\\n    random.shuffle(training)\\n    losses = {}\\n    for batch in spacy.util.minibatch(training, 30):\\n        f.value += 1\\n        text = [model(text) for text, entities in batch]\\n        annotations = [{\\\"cats\\\": entities} for text, entities in batch]\\n        model.update(text, annotations, losses=losses)\\n    if epoch % 100 == 0:\\n        history.append(losses)\";\n",
       "                var nbb_cells = Jupyter.notebook.get_cells();\n",
       "                for (var i = 0; i < nbb_cells.length; ++i) {\n",
       "                    if (nbb_cells[i].input_prompt_number == nbb_cell_id) {\n",
       "                        if (nbb_cells[i].get_text() == nbb_unformatted_code) {\n",
       "                             nbb_cells[i].set_text(nbb_formatted_code);\n",
       "                        }\n",
       "                        break;\n",
       "                    }\n",
       "                }\n",
       "            }, 500);\n",
       "            "
      ],
      "text/plain": [
       "<IPython.core.display.Javascript object>"
      ]
     },
     "metadata": {},
     "output_type": "display_data"
    }
   ],
   "source": [
    "history_loss = np.array([i.get(\"textcat\") for i in history])\n",
    "import matplotlib.pyplot as plt\n",
    "\n",
    "plt.plot(history_loss)\n",
    "plt.title(\"Progressão do erro\")\n",
    "plt.xlabel(\"Época\")\n",
    "plt.ylabel(\"Erro\")"
   ]
  },
  {
   "cell_type": "code",
   "execution_count": 42,
   "metadata": {},
   "outputs": [
    {
     "data": {
      "application/javascript": [
       "\n",
       "            setTimeout(function() {\n",
       "                var nbb_cell_id = 41;\n",
       "                var nbb_unformatted_code = \"history_loss = np.array([i.get(\\\"textcat\\\") for i in history])\\nimport matplotlib.pyplot as plt\\n\\nplt.plot(history_loss)\\nplt.title(\\\"Progress\\u00e3o do erro\\\")\\nplt.xlabel(\\\"\\u00c9poca\\\")\\nplt.ylabel(\\\"Erro\\\")\";\n",
       "                var nbb_formatted_code = \"history_loss = np.array([i.get(\\\"textcat\\\") for i in history])\\nimport matplotlib.pyplot as plt\\n\\nplt.plot(history_loss)\\nplt.title(\\\"Progress\\u00e3o do erro\\\")\\nplt.xlabel(\\\"\\u00c9poca\\\")\\nplt.ylabel(\\\"Erro\\\")\";\n",
       "                var nbb_cells = Jupyter.notebook.get_cells();\n",
       "                for (var i = 0; i < nbb_cells.length; ++i) {\n",
       "                    if (nbb_cells[i].input_prompt_number == nbb_cell_id) {\n",
       "                        if (nbb_cells[i].get_text() == nbb_unformatted_code) {\n",
       "                             nbb_cells[i].set_text(nbb_formatted_code);\n",
       "                        }\n",
       "                        break;\n",
       "                    }\n",
       "                }\n",
       "            }, 500);\n",
       "            "
      ],
      "text/plain": [
       "<IPython.core.display.Javascript object>"
      ]
     },
     "metadata": {},
     "output_type": "display_data"
    }
   ],
   "source": [
    "!rm -rfd modelo-testing"
   ]
  },
  {
   "cell_type": "code",
   "execution_count": 43,
   "metadata": {},
   "outputs": [
    {
     "data": {
      "application/javascript": [
       "\n",
       "            setTimeout(function() {\n",
       "                var nbb_cell_id = 42;\n",
       "                var nbb_unformatted_code = \"!rm -rfd modelo-testing\";\n",
       "                var nbb_formatted_code = \"!rm -rfd modelo-testing\";\n",
       "                var nbb_cells = Jupyter.notebook.get_cells();\n",
       "                for (var i = 0; i < nbb_cells.length; ++i) {\n",
       "                    if (nbb_cells[i].input_prompt_number == nbb_cell_id) {\n",
       "                        if (nbb_cells[i].get_text() == nbb_unformatted_code) {\n",
       "                             nbb_cells[i].set_text(nbb_formatted_code);\n",
       "                        }\n",
       "                        break;\n",
       "                    }\n",
       "                }\n",
       "            }, 500);\n",
       "            "
      ],
      "text/plain": [
       "<IPython.core.display.Javascript object>"
      ]
     },
     "metadata": {},
     "output_type": "display_data"
    }
   ],
   "source": [
    "model.to_disk(\"modelo-testing\")"
   ]
  },
  {
   "cell_type": "code",
   "execution_count": 52,
   "metadata": {},
   "outputs": [
    {
     "name": "stdout",
     "output_type": "stream",
     "text": [
      "{'ALEGRIA': 0.9998735189437866, 'MEDO': 0.000239942513871938}\n",
      "{'ALEGRIA': 0.04624013230204582, 'MEDO': 0.9318918585777283}\n",
      "{'ALEGRIA': 0.9938719272613525, 'MEDO': 0.006748680025339127}\n"
     ]
    },
    {
     "data": {
      "application/javascript": [
       "\n",
       "            setTimeout(function() {\n",
       "                var nbb_cell_id = 51;\n",
       "                var nbb_unformatted_code = \"model_load = spacy.load(\\\"modelo-testing\\\")\\nprint(model_load(preprocess(\\\"eu adoro cor dos seus olhos\\\")).cats)\\nprint(model_load(preprocess(\\\"nossa consigo fazer isso!\\\")).cats)\\nprint(model_load(preprocess(\\\"vou consigo fazer isso!\\\")).cats)\";\n",
       "                var nbb_formatted_code = \"model_load = spacy.load(\\\"modelo-testing\\\")\\nprint(model_load(preprocess(\\\"eu adoro cor dos seus olhos\\\")).cats)\\nprint(model_load(preprocess(\\\"nossa consigo fazer isso!\\\")).cats)\\nprint(model_load(preprocess(\\\"vou consigo fazer isso!\\\")).cats)\";\n",
       "                var nbb_cells = Jupyter.notebook.get_cells();\n",
       "                for (var i = 0; i < nbb_cells.length; ++i) {\n",
       "                    if (nbb_cells[i].input_prompt_number == nbb_cell_id) {\n",
       "                        if (nbb_cells[i].get_text() == nbb_unformatted_code) {\n",
       "                             nbb_cells[i].set_text(nbb_formatted_code);\n",
       "                        }\n",
       "                        break;\n",
       "                    }\n",
       "                }\n",
       "            }, 500);\n",
       "            "
      ],
      "text/plain": [
       "<IPython.core.display.Javascript object>"
      ]
     },
     "metadata": {},
     "output_type": "display_data"
    }
   ],
   "source": [
    "model_load = spacy.load(\"modelo-testing\")\n",
    "print(model_load(preprocess(\"eu adoro cor dos seus olhos\")).cats)\n",
    "print(model_load(preprocess(\"nossa consigo fazer isso!\")).cats)\n",
    "print(model_load(preprocess(\"vou consigir fazer isso!\")).cats)"
   ]
  }
 ],
 "metadata": {
  "kernelspec": {
   "display_name": "Python 3.8.2 64-bit",
   "language": "python",
   "name": "python38264bita9a0329ecd1948ce89aa60c195c8763d"
  },
  "language_info": {
   "codemirror_mode": {
    "name": "ipython",
    "version": 3
   },
   "file_extension": ".py",
   "mimetype": "text/x-python",
   "name": "python",
   "nbconvert_exporter": "python",
   "pygments_lexer": "ipython3",
   "version": "3.8.2"
  }
 },
 "nbformat": 4,
 "nbformat_minor": 2
}
