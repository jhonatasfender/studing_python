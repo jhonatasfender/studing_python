{
 "cells": [
  {
   "cell_type": "code",
   "execution_count": 2,
   "metadata": {},
   "outputs": [
    {
     "data": {
      "application/javascript": [
       "\n",
       "            setTimeout(function() {\n",
       "                var nbb_cell_id = 2;\n",
       "                var nbb_unformatted_code = \"%load_ext nb_black\";\n",
       "                var nbb_formatted_code = \"%load_ext nb_black\";\n",
       "                var nbb_cells = Jupyter.notebook.get_cells();\n",
       "                for (var i = 0; i < nbb_cells.length; ++i) {\n",
       "                    if (nbb_cells[i].input_prompt_number == nbb_cell_id) {\n",
       "                        if (nbb_cells[i].get_text() == nbb_unformatted_code) {\n",
       "                             nbb_cells[i].set_text(nbb_formatted_code);\n",
       "                        }\n",
       "                        break;\n",
       "                    }\n",
       "                }\n",
       "            }, 500);\n",
       "            "
      ],
      "text/plain": [
       "<IPython.core.display.Javascript object>"
      ]
     },
     "metadata": {},
     "output_type": "display_data"
    }
   ],
   "source": [
    "%load_ext nb_black"
   ]
  },
  {
   "cell_type": "code",
   "execution_count": 3,
   "metadata": {
    "tags": []
   },
   "outputs": [
    {
     "data": {
      "application/javascript": [
       "\n",
       "            setTimeout(function() {\n",
       "                var nbb_cell_id = 3;\n",
       "                var nbb_unformatted_code = \"from pyautogui import (\\n    size,\\n    position,\\n    moveTo,\\n    moveRel,\\n    click,\\n    dragRel,\\n    displayMousePosition,\\n)\";\n",
       "                var nbb_formatted_code = \"from pyautogui import (\\n    size,\\n    position,\\n    moveTo,\\n    moveRel,\\n    click,\\n    dragRel,\\n    displayMousePosition,\\n)\";\n",
       "                var nbb_cells = Jupyter.notebook.get_cells();\n",
       "                for (var i = 0; i < nbb_cells.length; ++i) {\n",
       "                    if (nbb_cells[i].input_prompt_number == nbb_cell_id) {\n",
       "                        if (nbb_cells[i].get_text() == nbb_unformatted_code) {\n",
       "                             nbb_cells[i].set_text(nbb_formatted_code);\n",
       "                        }\n",
       "                        break;\n",
       "                    }\n",
       "                }\n",
       "            }, 500);\n",
       "            "
      ],
      "text/plain": [
       "<IPython.core.display.Javascript object>"
      ]
     },
     "metadata": {},
     "output_type": "display_data"
    }
   ],
   "source": [
    "from pyautogui import (\n",
    "    size,\n",
    "    position,\n",
    "    moveTo,\n",
    "    moveRel,\n",
    "    click,\n",
    "    dragRel,\n",
    "    displayMousePosition,\n",
    ")"
   ]
  },
  {
   "cell_type": "markdown",
   "metadata": {},
   "source": [
    "# Pyautogui Module\n",
    "\n",
    "pyautogui is a module used to control mouse and keyboard. This module is basically used to automate mouse clickand keyboard press tasks. For the mouse, the coordinates of the screen (0,0) start from the top-left corner. If youare out of control, then quickly move the mouse cursor to top-left, it will take the control of mouse and keyboardfrom the Python and give it back to you.\n"
   ]
  },
  {
   "cell_type": "markdown",
   "metadata": {},
   "source": [
    "## Mouse Functions"
   ]
  },
  {
   "cell_type": "code",
   "execution_count": 4,
   "metadata": {
    "tags": []
   },
   "outputs": [
    {
     "data": {
      "application/javascript": [
       "\n",
       "            setTimeout(function() {\n",
       "                var nbb_cell_id = 4;\n",
       "                var nbb_unformatted_code = \"size() # gave you the size of the screen\\nposition() # return current position of mouse\\nmoveTo(200,0,duration=1.5)#move the cursor  to (200,0) position  with 1.5 second delay    \\nmoveRel()#move the cursor relative to your current position.\\nclick(337,46)#it will click on the position mention there\\ndragRel()#it will drag the mouse relative to position\\n# displayMousePosition() # gave you the current mouse position but should be done onterminal.\";\n",
       "                var nbb_formatted_code = \"size()  # gave you the size of the screen\\nposition()  # return current position of mouse\\nmoveTo(\\n    200, 0, duration=1.5\\n)  # move the cursor  to (200,0) position  with 1.5 second delay\\nmoveRel()  # move the cursor relative to your current position.\\nclick(337, 46)  # it will click on the position mention there\\ndragRel()  # it will drag the mouse relative to position\\n# displayMousePosition() # gave you the current mouse position but should be done onterminal.\";\n",
       "                var nbb_cells = Jupyter.notebook.get_cells();\n",
       "                for (var i = 0; i < nbb_cells.length; ++i) {\n",
       "                    if (nbb_cells[i].input_prompt_number == nbb_cell_id) {\n",
       "                        if (nbb_cells[i].get_text() == nbb_unformatted_code) {\n",
       "                             nbb_cells[i].set_text(nbb_formatted_code);\n",
       "                        }\n",
       "                        break;\n",
       "                    }\n",
       "                }\n",
       "            }, 500);\n",
       "            "
      ],
      "text/plain": [
       "<IPython.core.display.Javascript object>"
      ]
     },
     "metadata": {},
     "output_type": "display_data"
    }
   ],
   "source": [
    "size()  # gave you the size of the screen\n",
    "position()  # return current position of mouse\n",
    "moveTo(\n",
    "    200, 0, duration=1.5\n",
    ")  # move the cursor  to (200,0) position  with 1.5 second delay\n",
    "moveRel()  # move the cursor relative to your current position.\n",
    "click(337, 46)  # it will click on the position mention there\n",
    "dragRel()  # it will drag the mouse relative to position\n",
    "displayMousePosition()  # gave you the current mouse position but should be done onterminal."
   ]
  }
 ],
 "metadata": {
  "kernelspec": {
   "display_name": "Python 3.8.2 64-bit",
   "language": "python",
   "name": "python38264bita9a0329ecd1948ce89aa60c195c8763d"
  },
  "language_info": {
   "codemirror_mode": {
    "name": "ipython",
    "version": 3
   },
   "file_extension": ".py",
   "mimetype": "text/x-python",
   "name": "python",
   "nbconvert_exporter": "python",
   "pygments_lexer": "ipython3",
   "version": "3.8.2"
  }
 },
 "nbformat": 4,
 "nbformat_minor": 2
}
