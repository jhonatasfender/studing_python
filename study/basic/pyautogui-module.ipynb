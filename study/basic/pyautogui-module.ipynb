{
 "metadata": {
  "language_info": {
   "codemirror_mode": {
    "name": "ipython",
    "version": 3
   },
   "file_extension": ".py",
   "mimetype": "text/x-python",
   "name": "python",
   "nbconvert_exporter": "python",
   "pygments_lexer": "ipython3",
   "version": "3.8.2-final"
  },
  "orig_nbformat": 2,
  "kernelspec": {
   "name": "python38264bita9a0329ecd1948ce89aa60c195c8763d",
   "display_name": "Python 3.8.2 64-bit"
  }
 },
 "nbformat": 4,
 "nbformat_minor": 2,
 "cells": [
  {
   "cell_type": "code",
   "execution_count": 3,
   "metadata": {},
   "outputs": [
    {
     "output_type": "display_data",
     "data": {
      "text/plain": "<IPython.core.display.Javascript object>",
      "application/javascript": "\n            setTimeout(function() {\n                var nbb_cell_id = 3;\n                var nbb_unformatted_code = \"%load_ext nb_black\";\n                var nbb_formatted_code = \"%load_ext nb_black\";\n                var nbb_cells = Jupyter.notebook.get_cells();\n                for (var i = 0; i < nbb_cells.length; ++i) {\n                    if (nbb_cells[i].input_prompt_number == nbb_cell_id) {\n                        if (nbb_cells[i].get_text() == nbb_unformatted_code) {\n                             nbb_cells[i].set_text(nbb_formatted_code);\n                        }\n                        break;\n                    }\n                }\n            }, 500);\n            "
     },
     "metadata": {}
    }
   ],
   "source": [
    "%load_ext nb_black"
   ]
  },
  {
   "cell_type": "code",
   "execution_count": 2,
   "metadata": {
    "tags": []
   },
   "outputs": [],
   "source": [
    "from pyautogui import size, position, moveTo, moveRel, click,dragRel,displayMousePosition"
   ]
  },
  {
   "cell_type": "markdown",
   "metadata": {},
   "source": [
    "# Pyautogui Module\n",
    "\n",
    "pyautogui is a module used to control mouse and keyboard. This module is basically used to automate mouse clickand keyboard press tasks. For the mouse, the coordinates of the screen (0,0) start from the top-left corner. If youare out of control, then quickly move the mouse cursor to top-left, it will take the control of mouse and keyboardfrom the Python and give it back to you.\n"
   ]
  },
  {
   "cell_type": "markdown",
   "metadata": {},
   "source": [
    "## Mouse Functions"
   ]
  },
  {
   "cell_type": "code",
   "execution_count": 4,
   "metadata": {
    "tags": []
   },
   "outputs": [
    {
     "output_type": "stream",
     "name": "stdout",
     "text": "Press Ctrl-C to quit.\nX:  337 Y:   46 RGB: ( 32,  33,  3X:  337 Y:   46 RGB: ( 32,  33,  3X:  337 Y:   46 RGB: ( 32,  33,  3X:  337 Y:   46 RGB: ( 32,  33,  3X:  337 Y:   46 RGB: ( 32,  33,  3X:  337 Y:   46 RGB: ( 32,  33,  3X:  337 Y:   46 RGB: ( 32,  33,  3X:  337 Y:   46 RGB: ( 32,  33,  3X:  337 Y:   46 RGB: ( 32,  33,  3X:  337 Y:   46 RGB: ( 32,  33,  3X:  337 Y:   46 RGB: ( 32,  33,  3X:  337 Y:   46 RGB: ( 32,  33,  3X:  337 Y:   46 RGB: ( 32,  33,  3X:  337 Y:   46 RGB: ( 32,  33,  3X:  337 Y:   46 RGB: ( 32,  33,  3X:  337 Y:   46 RGB: ( 32,  33,  3X:  337 Y:   46 RGB: ( 32,  33,  3X:  337 Y:   46 RGB: ( 32,  33,  3X:  337 Y:   46 RGB: ( 32,  33,  3X:  337 Y:   46 RGB: ( 32,  33,  3X:  337 Y:   46 RGB: ( 32,  33,  3X:  337 Y:   46 RGB: ( 32,  33,  3X:  337 Y:   46 RGB: ( 32,  33,  3X:  337 Y:   46 RGB: ( 32,  33,  3X:  337 Y:   46 RGB: ( 32,  33,  3X:  337 Y:   46 RGB: ( 32,  33,  3X:  337 Y:   46 RGB: ( 32,  33,  3X:  337 Y:   46 RGB: ( 32,  33,  3X:  337 Y:   46 RGB: ( 32,  33,  3X:  337 Y:   46 RGB: ( 32,  33,  3X:  337 Y:   46 RGB: ( 32,  33,  3X:  337 Y:   46 RGB: ( 32,  33,  3X:  337 Y:   46 RGB: ( 32,  33,  3X:  337 Y:   46 RGB: ( 32,  33,  3X:  337 Y:   46 RGB: ( 32,  33,  3X:  337 Y:   46 RGB: ( 32,  33,  3X:  337 Y:   46 RGB: ( 32,  33,  3X:  337 Y:   46 RGB: ( 32,  33,  3X:  337 Y:   46 RGB: ( 32,  33,  3X:  337 Y:   46 RGB: ( 32,  33,  3X:  337 Y:   46 RGB: ( 32,  33,  3X:  337 Y:   46 RGB: ( 32,  33,  3X:  229 Y:   32 RGB: ( 56,  56,  5X:  296 Y:   83 RGB: (163, 163, 16X:  333 Y:  140 RGB: (  0,   0,   X:  421 Y:  157 RGB: (  0,   0,   X:  425 Y:  151 RGB: (  0,   0,   X:  425 Y:  151 RGB: (  0,   0,   X:  425 Y:  151 RGB: (  0,   0,   X:  385 Y:  109 RGB: (  0,   0,   X:  288 Y:   33 RGB: (101, 101, 10X:  303 Y:   22 RGB: ( 56,  56,  5X:  303 Y:   23 RGB: ( 56,  56,  5X:  305 Y:   25 RGB: ( 56,  56,  5X:  305 Y:   25 RGB: ( 56,  56,  5X:  305 Y:   25 RGB: ( 56,  56,  5X:  305 Y:   25 RGB: ( 56,  56,  5X:  305 Y:   25 RGB: ( 56,  56,  5X:  310 Y:   35 RGB: ( 56,  56,  5X:  826 Y:  142 RGB: (255, 255, 25X: 1273 Y:  158 RGB: (255, 255, 25X: 1852 Y:  174 RGB: (250, 250, 25X: 2375 Y:  174 RGB: ( 30,  30,  3X: 2359 Y:  435 RGB: ( 30,  30,  3X: 2393 Y:  274 RGB: ( 37,  37,  3X: 2458 Y:  135 RGB: ( 37,  37,  3X: 2437 Y:   99 RGB: ( 30,  30,  3\n"
    },
    {
     "output_type": "display_data",
     "data": {
      "text/plain": "<IPython.core.display.Javascript object>",
      "application/javascript": "\n            setTimeout(function() {\n                var nbb_cell_id = 4;\n                var nbb_unformatted_code = \"size()#gave you the size of the screen\\nposition()#return current position of mouse\\nmoveTo(200,0,duration=1.5)#move the cursor  to (200,0) position  with 1.5 second delay    \\nmoveRel()#move the cursor relative to your current position.\\nclick(337,46)#it will click on the position mention there\\ndragRel()#it will drag the mouse relative to position\\ndisplayMousePosition()#gave you the current mouse position but should be done onterminal.\";\n                var nbb_formatted_code = \"size()  # gave you the size of the screen\\nposition()  # return current position of mouse\\nmoveTo(\\n    200, 0, duration=1.5\\n)  # move the cursor  to (200,0) position  with 1.5 second delay\\nmoveRel()  # move the cursor relative to your current position.\\nclick(337, 46)  # it will click on the position mention there\\ndragRel()  # it will drag the mouse relative to position\\ndisplayMousePosition()  # gave you the current mouse position but should be done onterminal.\";\n                var nbb_cells = Jupyter.notebook.get_cells();\n                for (var i = 0; i < nbb_cells.length; ++i) {\n                    if (nbb_cells[i].input_prompt_number == nbb_cell_id) {\n                        if (nbb_cells[i].get_text() == nbb_unformatted_code) {\n                             nbb_cells[i].set_text(nbb_formatted_code);\n                        }\n                        break;\n                    }\n                }\n            }, 500);\n            "
     },
     "metadata": {}
    }
   ],
   "source": [
    "size()#gave you the size of the screen\n",
    "position()#return current position of mouse\n",
    "moveTo(200,0,duration=1.5)#move the cursor  to (200,0) position  with 1.5 second delay    \n",
    "moveRel()#move the cursor relative to your current position.\n",
    "click(337,46)#it will click on the position mention there\n",
    "dragRel()#it will drag the mouse relative to position\n",
    "displayMousePosition()#gave you the current mouse position but should be done onterminal."
   ]
  }
 ]
}